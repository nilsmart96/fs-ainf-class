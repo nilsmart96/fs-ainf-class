{
  "cells": [
    {
      "cell_type": "markdown",
      "metadata": {
        "id": "wrsc9B7_GLTv"
      },
      "source": [
        "# What is a graph?\n",
        "\n",
        "A graph is a flexible unordered data structure representing entities and their relations in an informative and compact manner.\n",
        "\n",
        "The two main components of graphs are:\n",
        "- __Nodes__ (also called vertices, or vertex in singular) are the main objects or entities, for which the connections are to be represented\n",
        "- __Connections__ (also called edges) are representing the presence or absence of certain pre-defined relations amongst the nodes.\n",
        "\n",
        "<a href=\"http://drive.google.com/uc?export=view&id=1Jjj3q6vsxlsps2ryKeFSFB4xKzT6CWhq\"><img src=\"https://drive.google.com/uc?export=view&id=1Ic693TA57v3X0S-VlzcG5UYMC6MCNJQp\" width=35%></a>\n",
        "\n",
        "Graphs are very general and flexible, and are utilized nearly ubiquitously in many domains. They are considered unordered, since (without further restrictions) do not represent any global ordering, so they can be __\"traversed\"__, in multiple ways, following along their connection structure \"step by step\", where in a given step we start from a node, and \"travel along\" a given edge to arrive at another vertex.\n",
        "\n",
        "Introducing additional restrictions on graphs can lead to other previously discussed datastructures, like __trees__, which are basically __special cases of graphs__ in general.\n",
        "\n",
        "There is also considerable amount of flexibility about __what constitutes a vertex__, and __what number and type of connections are allowed__.\n",
        "\n",
        "# Typology of graphs\n",
        "\n",
        "Based on this flexibility, we can try to set up a rough typology of graphs.\n",
        "\n",
        "## Directedness\n",
        "\n",
        "<a href=\"https://www.differencebetween.com/wp-content/uploads/2011/05/DifferenceBetween_Directed_UnDirected_Graphs1.jpg\"><img src=\"https://drive.google.com/uc?export=view&id=1IYF82f-fpZ-FtqDiLtKtVrD6EOXhaLrN\" width=35%></a>\n",
        "\n",
        "Regarding the edges in the graph, we can define __directed__ or __undirected__ graphs, whereby in the first case, we also store the __\"origin\"__ and __\"destination\"__ information of an edge, but in the second case, we leave this property undefined, signifying only the presence of a mutual connection.\n",
        "\n",
        "## Maximum degree\n",
        "\n",
        "Also noteworthy attribute of a graph is the number of allowed number of connections per node, also called __degree__.\n",
        "\n",
        "In a general graph there are no restrictions on how many nodes can connect to each-other, hence the maximum number of connections is $n-1$ in case of $n$ nodes, forming a [complete graph](https://en.wikipedia.org/wiki/Complete_graph).\n",
        "\n",
        "<a href=\"https://upload.wikimedia.org/wikipedia/commons/thumb/9/9e/Complete_graph_K7.svg/400px-Complete_graph_K7.svg.png\"><img src=\"https://drive.google.com/uc?export=view&id=1ekz9zEuni1E1R-5CBdZyOaeWtjkuAXCA\" width=35%></a>\n",
        "\n",
        "The other extreme case would be to restrict the nodes to have only maximally one edge, but that typically does not make too much practical sense, so more often the restriction is set to eg. two. Remember those binary trees? They are graphs restricted to degree two, and with a dedicated root node.\n",
        "\n",
        "<a href=\"https://miro.medium.com/max/1000/1*PCwTxonbP0rBNp0R8fSZ1Q.png\"><img src=\"https://drive.google.com/uc?export=view&id=1K7ZzOaI43pWw-d4i5O90z4_27r26ePNJ\" width=35%></a>\n",
        "\n",
        "## Types of connections\n",
        "\n",
        "There is also considerable amount of variance with respect to the number and types of connections between give two nodes.\n",
        "\n",
        "The first question is, if we allow __multiple connections between the same two nodes__.\n",
        "\n",
        "<a href=\"https://upload.wikimedia.org/wikipedia/commons/thumb/c/c9/Multi-pseudograph.svg/1200px-Multi-pseudograph.svg.png\"><img src=\"https://drive.google.com/uc?export=view&id=1C5OduXkAAguIARxwJG0PfoeCkb5XXV21\" width=35%></a>\n",
        "\n",
        "If we allow multiple connections, we get to a [multigraph](https://en.wikipedia.org/wiki/Multigraph) containing \"parallel\" edges.\n",
        "\n",
        "This can make more sense in case we want to emphasize either some __weighting of connections__ or have __different types__ of relationships between nodes.\n",
        "\n",
        "As for the weighting of connections, there is a more straightforward method to introduce some more information, namely in the form of __connection weights__, which can represent strength or distance of a link between two nodes. The introduction of such weights forms a [weighted graph](https://en.wikipedia.org/wiki/Graph_(discrete_mathematics)#Weighted_graph).\n",
        "\n",
        "\n",
        "<a href=\"https://upload.wikimedia.org/wikipedia/commons/thumb/f/f0/Weighted_network.svg/1200px-Weighted_network.svg.png\"><img src=\"https://drive.google.com/uc?export=view&id=1xNXz3Pk6bazavtkqSat69DhERHa3k2y6\" width=35%></a>\n",
        "\n",
        "With regards to connections, we are at liberty to introduce different __edge types__, so as to distinguish different types of relations in a single graph dataset:\n",
        "\n",
        "<a href=\"http://drive.google.com/uc?export=view&id=1_rZ6rI8ZPwuE6F-zDd3sQV1m4t8MOQIo\"><img src=\"https://drive.google.com/uc?export=view&id=1nGN5PgiWSke1uSUTDxuoMnJEuTFxUAEi\" width=45%></a>\n",
        "\n",
        "This leads us to the mathematically not studied, but from the database perspective significant concept of [property graphs](), in which all the nodes and edges can have additional information attached to them in the form of key-value pairs.\n",
        "\n",
        "<a href=\"https://dist.neo4j.com/wp-content/uploads/property_graph_elements.jpg\"><img src=\"https://drive.google.com/uc?export=view&id=1r-_AQDXOTBADcaY0pDDtOOssv2OK3LZa\" width=50%></a>\n",
        "\n",
        "With this approach we are able to represent very complexly interrelated data."
      ]
    },
    {
      "cell_type": "markdown",
      "metadata": {
        "id": "VcJgmDEHGLT0"
      },
      "source": [
        "# Data representation of graphs:\n",
        "\n",
        "There are multiple data representations that we can utilize for storing and manipulating a graph in computer memory. The most notable are:\n",
        "\n",
        "- __Tuples and triplets__:\n",
        "\n",
        "One of the most flexible ways of representing a graph is to specifically store the connections.\n",
        "\n",
        "In the simplest case this can be done in the form of a list of tuples representing the identifiers of the two nodes connected as in:\n",
        "\n",
        "<a href=\"https://upload.wikimedia.org/wikipedia/commons/thumb/5/5b/6n-graf.svg/1200px-6n-graf.svg.png\"><img src=\"https://drive.google.com/uc?export=view&id=1DL0i5QEMLv6sKrLmRaIjCSY773lZxubA\" width=35%></a>\n",
        "\n",
        "```\n",
        "[\n",
        " (6,4),\n",
        " (4,3),\n",
        " (4,5),\n",
        " (3,2),\n",
        " (5,2),\n",
        " (5,1),\n",
        " (2,1)\n",
        "]\n",
        "```\n",
        "This representation presupposes that there are no nodes without links present, as well as the binary and undirected nature of the connections.\n",
        "\n",
        "Naturally, if the edges are \"typed\", one has to extend this to triplets, as in:\n",
        "\n",
        "```\n",
        "[\n",
        " (\"Mary\",\"is_a\",\"student\"),\n",
        " (\"John\",\"is_a\",\"student\"),\n",
        "]\n",
        "```\n",
        "\n",
        "And if we want to encode nodes even without links, to:\n",
        "\n",
        "- __Dict of pointers / id-s per node__:\n",
        "\n",
        "```\n",
        "{\n",
        " 1: [],\n",
        " 2: [],\n",
        " 4: [1,2],\n",
        " 5: [],\n",
        " 3: [1,2]}\n",
        "```\n",
        "\n",
        "In which the keys are the nodes, and the value lists are the eg. directed outgoing links to other nodes represented also with id-s.\n",
        "\n",
        "- __Adjacency / Connectivity matrix__:\n",
        "\n",
        "An array-like structure, with the dimensions $n*n$ in case of $n$ nodes, in which we represent either the binary or weighted, directed or non-directed edges between the nodes.\n",
        "\n",
        "<a href=\"https://mathworld.wolfram.com/images/eps-gif/AdjacencyMatrices_1002.gif\"><img src =\"https://drive.google.com/uc?export=view&id=1MssZX_668TANlhaMDu6MfvSqLzucR0_m\" width=45%></a>\n",
        "\n",
        "In case of undirected graphs, we can get away with a triangular adjacency matrix.\n",
        "\n",
        "<a href=\"https://www.researchgate.net/profile/Xiaotong_Liu2/publication/281463336/figure/fig3/AS:287034984943623@1445445881923/Adjacency-matrix-juxtapositions-Left-side-by-side-juxtaposition-SID-Middle_Q320.jpg\"><img src=\"https://drive.google.com/uc?export=view&id=1gLWpQ4_FjS0kg32sOJjj48tlcYjhQQQi\" width=25%></a>\n",
        "\n",
        "We can still see, that this representation has decent overhead in allocated but unused space, so under the hood, many times one has to fall back to list based representations \"under the hood\".\n",
        "\n",
        "For some nice examples of the diversity of matrix representations see [Scipy.sparse](https://docs.scipy.org/doc/scipy/reference/sparse.html).\n",
        "\n",
        "- __Objects with properties and pointers to other objects__:\n",
        "\n",
        "Also quite naturally, from the OOP paradigm, we can easily define objects of a `Node` type, which can easily take care of their properties and can point to other objects, thus even capable of realizing a property graph."
      ]
    },
    {
      "cell_type": "markdown",
      "metadata": {
        "id": "nGbFr26ZGLT1"
      },
      "source": [
        "# Some descriptive properties of graphs\n",
        "\n",
        "Though the rigorous study of graphs yielded a huge literature, thus countless properties of graphs have been studied, let us just highlight two of them that we might encounter often:\n",
        "\n",
        "### Preliminary: Walks, Paths and trails\n",
        "\n",
        "We already hinted at it, but now is the time to more properly examine the \"change of location\" on graphs, called __traversal__. This means, that in general we can start from a given node in the graph, and then following along undirected edges or following the right direction on directed ones we can move along and get to another node.\n",
        "\n",
        "Let us lay down some concepts borrowing from [Wikipedia](https://en.wikipedia.org/wiki/Path_(graph_theory)):\n",
        "\n",
        "- \"A __walk__ is a finite or infinite sequence of edges which joins a sequence of vertices.\n",
        "\n",
        "Let $G = (V, E, ϕ)$ be a graph. A finite walk is a sequence of edges $(e_1, e_2, …, e_{n − 1})$ for which there is a sequence of vertices $(v_1, v_2, …, v_n)$ such that $ϕ(e_i) = {v_i, v_{i + 1}}$ for $i = 1, 2, …, n − 1$. $(v_1, v_2, …, v_n)$ is the vertex sequence of the walk. This walk is closed if $v_1 = v_n$, and open else.\n",
        "- A __trail__ is a walk in which all edges are distinct.\n",
        "- A __path__ is a trail in which all vertices (and therefore also all edges) are distinct.\"\n",
        "\n",
        "\n",
        "### Back to the graph characteristics\n",
        "\n",
        "\n",
        "\n",
        "- __Components__:\n",
        "\n",
        "The connections in a graph can be laid out in such a way as to allow __traversal__ (thus the presence of __paths__ from all nodes to all others. In this case the graph forms a \"supercomponent\". I there are separate \"islands\" of connectivity, though, these are called __\"components\"__, which have no paths between them.\n",
        "\n",
        "<a href=\"http://mathonline.wdfiles.com/local--files/components-of-a-graph/Screen%20Shot%202014-04-09%20at%205.27.38%20AM.png\"><img src=\"https://drive.google.com/uc?export=view&id=1u8589yiEiJMYXOE_VTckW4kQUE_OKTnj\" width=35%></a>\n",
        "\n",
        "- __Cyclicity__:\n",
        "\n",
        "\n",
        "<a href=\"https://www.researchgate.net/profile/Elisa-Bertino/publication/2431833/figure/fig2/AS:339592545882121@1457976580886/Example-of-cyclic-and-acyclic-graphs.png\"><img src=\"https://drive.google.com/uc?export=view&id=1QeenlDyyvU1TASZVCSzs43lEj-l8Zt3T\" width=\"45%\"></a>\n",
        "\n",
        "\n",
        "Cyclicity represents a connection pattern of graphs, in which we can traverse the graph in a way as to get back to the original starting node, or as [Wikipedia](https://en.wikipedia.org/wiki/Cycle_(graph_theory)) puts it:\n",
        "\n",
        "\"cycle in a graph is a non-empty trail in which the only repeated vertices are the first and last vertices.\n",
        "\n",
        "A graph without cycles is called an acyclic graph. A directed graph without directed cycles is called a directed acyclic graph. A connected graph without cycles is called a tree.\"\n",
        "\n",
        "\n",
        "For node level properties see [here](https://reference.wolfram.com/language/guide/GraphMeasures.html) and much more..."
      ]
    },
    {
      "cell_type": "markdown",
      "metadata": {
        "id": "ZrN8JcQrGLT2"
      },
      "source": [
        "# Graph traversal and problem solving\n",
        "\n",
        "The traversal of graphs itself is a complex problem, so for example locating a certain node or finding of the shortest or longest path between two nodes are challenges with many algorithmic solutions (some of which we will study shortly).\n",
        "\n",
        "Conversely: it is a pretty fruitful technique to use graph traversal as a problem solving technique, as we already saw earlier in the sections on search, where specific restricted graphs, namely trees were the preferred representation of a search problem, and their specialized traversal served as the solution.\n",
        "\n",
        "There are plenty of real world problems which lend themselves to be cast as graph traversal. For illustrative purposes let us dwell a bit on one - maybe the most famous.\n",
        "\n",
        "## An example: [Traveling salesman problem](https://en.wikipedia.org/wiki/Travelling_salesman_problem)\n",
        "\n",
        "Let us suppose that we are a company that employs some traveling sales agents, who have the task of visiting different locations that are further or closer to each-other physically. We would like to come up with some suggestions to our agent, given the set of locations she has to visit about the shortest overall path she can take to visit all the sites. This is in essence a very __classic optimization problem__.\n",
        "\n",
        "We can observe, that in it's purest form, this can be studied as a graph problem, in which nodes represent locations and the weighted edges between them stand for the \"road\" distances connecting them.\n",
        "\n",
        "<a href=\"https://encrypted-tbn0.gstatic.com/images?q=tbn:ANd9GcQc9YbYokMhPxKYUDhYA3qvv820MSohvumxVQ&usqp=CAU\"><img src=\"https://drive.google.com/uc?export=view&id=1Pj0rZHFWiqXgraf6XdSru0RelodJfHkh\" width=55%></a>\n",
        "\n",
        "The challenge is, how can we come up with a walk that is the shortest possible and touches every node in the graph. If we find such path, we __solve an optimization problem__.\n",
        "\n",
        "We can also observe, that the possible combination of paths is exponentially related to the number of nodes in the problem, so much so, that raveling salesman is considered to be [NP hard](https://en.wikipedia.org/wiki/NP-hardness). This makes it in practice infeasible for many non-trivial sizes, so much so, that it is customary to use some [approximate optimization algorithms](https://en.wikipedia.org/wiki/Christofides_algorithm) to make the solution of real world problems feasible. (In fact, even some deep learning [approaches](https://multithreaded.stitchfix.com/blog/2016/07/21/skynet-salesman/) were tried in this field.)\n",
        "\n",
        "In fact, in 2020 a new [paper](https://arxiv.org/abs/2007.01409) came out that [beat the previous long standing benchmark](https://www.quantamagazine.org/computer-scientists-break-traveling-salesperson-record-20201008/) on approximate traveling salesman.\n",
        "\n",
        "This shows the deep connections of the topic of \"optimum search\" and traversal."
      ]
    },
    {
      "cell_type": "markdown",
      "metadata": {
        "id": "B4hq9colGEwe"
      },
      "source": [
        "(The discussion of this section is based in a large part on Russell and Norvig's classic account of the topic in their _Artificial Intelligence: A Modern Approach_ (ch. 3), and also, to a smaller extent, on Kleinberg and Tardos's _Algorithm Design_ (ch. 3).)\n",
        "\n",
        "# Problems as graph search tasks\n",
        "\n",
        "We can make the claim that a wide class of problems can be formulated as graph search more precise by considering that many problems can be construed in terms of the following elements:\n",
        "\n",
        "- There is a __state space__, a set of __states__, or \"configurations\" in which we are searching for a solution.\n",
        "- There is an __initial state__ in the state space, a starting point for exploring options.\n",
        "- In each state, there is a finite set of __actions__ (moves, operations) that can be made, and each of these actions leads to new -- not necessarily different -- states.\n",
        "- Moving from one state to an other using an action can be associated by an __action cost__, e.g., the time of the action.\n",
        "- Last, but not least, there must be a set of __goal states__, which are the solution(s) of the problem. This set can be specified simply by enumeration  or by a property which a state has to satisfy to be a goal state.\n",
        "\n",
        "What is a __solution__ in this framework?\n",
        "\n",
        "- It is not simply the goal state, which may be explicitly given, but a __path, i.e., a sequence of state transitions by way of actions leading to a goal state from the start state__.\n",
        "- An __optimal__ solution is a solution with the minimum total action cost.\n",
        "\n",
        "Notice that this type of formulation reduces a problem, however different it seems, to a __search task in a directed and weighted graph__:\n",
        "\n",
        "- the __nodes__ of the graph are the __states__, i.e., the elements of the __state space__,\n",
        "- the __directed edges__ correspond to concrete transitions that can be carried out by the available actions, and the\n",
        "- __edge weights__ are the costs associated by the state transition corresponding to the edge in question."
      ]
    },
    {
      "cell_type": "markdown",
      "metadata": {
        "id": "VsUC3kr_GEwh"
      },
      "source": [
        "## Examples\n",
        "\n",
        "A couple of toy and practically useful, \"serious\" examples of problems that can be formulated in these terms:"
      ]
    },
    {
      "cell_type": "markdown",
      "metadata": {
        "id": "k93wrzX0GEwh"
      },
      "source": [
        "__Sliding puzzles__\n",
        "\n",
        "Traditional sliding puzzles, like the sliding-15 puzzle:\n",
        "\n",
        "<a href=\"https://upload.wikimedia.org/wikipedia/commons/thumb/9/91/15-puzzle.svg/180px-15-puzzle.svg.png\"><img src=\"https://drive.google.com/uc?export=view&id=1PPXonimoWq1Kj71OTJjuClvsuzrYQIaQ\" width=\"150px\"></a>\n",
        "\n",
        "(Figure source: [Wikipedia](https://en.wikipedia.org/wiki/Sliding_puzzle))\n",
        "\n",
        "The formulation is straightforward:\n",
        "- __states__ are the possible configurations,\n",
        "- __actions__ are sliding a block to the available empty space from the possible directions.\n",
        "- all actions __cost__ 1: only the number of moves count."
      ]
    },
    {
      "cell_type": "markdown",
      "metadata": {
        "id": "PlpqqXg2GEwi"
      },
      "source": [
        "__Eight queens puzzle__\n",
        "\n",
        "The goal is to place 8 queens on a chess board so that none of the queens threaten each other.\n",
        "\n",
        "<a href=\"http://yue-guo.com/wp-content/uploads/2019/02/N_queen.png\"><img src=\"https://drive.google.com/uc?export=view&id=1ZoArBxmRbsg19MHR72uag2DiP8nTxiN6\" width=\"250px\"></a>\n",
        "\n",
        "(Figure source: [Wikipedia](https://en.wikipedia.org/wiki/Eight_queens_puzzle))\n",
        "\n",
        "What is interesting is that problem formulation does not contain explicitly states and actions, but we can __reformulate__ it in this way, if we introduce the notion of __incrementally__ building up the solution. In this case we can say that\n",
        "\n",
        "- __states__ are chess board configurations with at most 8 queens on them (and nothing else);\n",
        "- __actions__ are placing a queen at a free position;\n",
        "- __the starting state__ is the empty chess board, __goal states__ are states when there are 8 queens and none of them threatens another.\n",
        "- There are no action costs, or, equivalently, all of them are 0.\n",
        "\n",
        "Obviously, this formulation is not economical with the number of states, because a lot of configurations are allowed which are obviously non-starters even as partial solutions. A more economical solution is to allow only states in which none of the queens are threatening each other, this considerably limits the number of available actions too."
      ]
    },
    {
      "cell_type": "markdown",
      "metadata": {
        "id": "HXpcLqhaGEwi"
      },
      "source": [
        "__Route finding__\n",
        "\n",
        "<a href=\"https://upload.wikimedia.org/wikipedia/commons/thumb/3/3b/Shortest_path_with_direct_weights.svg/390px-Shortest_path_with_direct_weights.svg.png\"><img src=\"https://drive.google.com/uc?export=view&id=1zmW7MYUtOjuVdX_Mur0z8ilSg6XXE8uO\" width=\"300px\"></a>\n",
        "\n",
        "(Figure source: [Wikipedia](https://en.wikipedia.org/wiki/Shortest_path_problem))\n",
        "\n",
        "The problem is to travel \"optimally\" (in the shortest time or using minimal resources) from one point in a road network to another.\n",
        "This is perhaps the most obvious application:\n",
        "- __states__ are the network's nodes;\n",
        "- __start state__ and __goal states__ are from where to where we want to travel;\n",
        "- the __actions__ are traveling on a certain direct route between two points in the network;\n",
        "- the individual action __costs__ are the time/fuel etc. spent on directly traveling from a point to another on a given route."
      ]
    },
    {
      "cell_type": "markdown",
      "metadata": {
        "id": "tn0Z4AYPGEwi"
      },
      "source": [
        "__Touring problems__\n",
        "\n",
        "Not surprisingly, the TSP and similar \"touring problems\", in which there a set of locations to be visited can be formulated in this framework as well, but -- somewhat surprisingly -- the states are __not__ simply nodes in the road network. For this task, states have to have \"memory\" in the sense that\n",
        "\n",
        "+ a __state__ should be a node in the road network __coupled with__ the set of all locations that were already visited.\n",
        "\n",
        "The __goal states__ are those for which the current location and the already visited locations together contain all tour locations."
      ]
    },
    {
      "cell_type": "markdown",
      "metadata": {
        "id": "xknLuwjpGEwi"
      },
      "source": [
        "__Further \"real world problems\"__\n",
        "\n",
        "Shortest route finding and touring problems are not the only important \"real world\" problems that can be formulated in similar terms, of course frequently with significant abstractions and transformations: important further examples are\n",
        "\n",
        "+ __Integrated circuit layout__: in this problem circuit connections and components have to be positioned on a plane in a way that the connections conform to a prescribed logical circuit structure. Two subtasks are cell layout (arranging components in groups) and channel routing (placing the required connections in the remaining space between the components).\n",
        "\n",
        "+ __Robot navigation__: In a way this is a \"route finding\" problem, but the state space and even the action space is continuous, and the control of arms, legs etc. can further increase the complexity."
      ]
    },
    {
      "cell_type": "markdown",
      "metadata": {
        "id": "RspRgg85GEwj"
      },
      "source": [
        "# Basic search strategies in graphs\n",
        "\n",
        "How can we solve the graph search task? Let's start with the simplest case, in which we simply want to find a path from the start node to a goal node."
      ]
    },
    {
      "cell_type": "markdown",
      "metadata": {
        "id": "bDmE7eMVGEwj"
      },
      "source": [
        "## Breadth-first search (BFS)\n",
        "\n",
        "Perhaps the simplest possible search strategy is the following: we explore the nodes reachable from our starting node __according to their distance, layer by layer__:\n",
        "- first those nodes are explored which are directly reachable from the starting node by an edge,\n",
        "- in the next stage we include all unexplored nodes that are directly reachable from the nodes we explored in the previous step,\n",
        "- and so on, until we reach a goal node, or no unexplored nodes remain.\n",
        "\n",
        "Simple physical analogy/interpretation: we \"flood\" the graph with water from the starting node.\n",
        "\n",
        "It is an important property of the algorithm that, in effect, it produces a __search tree__ during exploration:\n",
        "\n",
        "+ The __root__ of the search tree is the __starting node__, and\n",
        "+ the __nodes__ of the search tree hold/point to those nodes of the original graph which are reachable from the starting point,\n",
        "+ and for any graph node represented in the tree it holds that it was explored by following an edge from the graph node reference by its parent.\n",
        "\n",
        "A concrete example of a graph and a search tree associated with its breadth-first exploration:\n",
        "\n",
        "<a href=\"https://upload.wikimedia.org/wikipedia/commons/thumb/a/ad/MapGermanyGraph.svg/1024px-MapGermanyGraph.svg.png\"><img src=\"https://drive.google.com/uc?export=view&id=17nxfo9Oqeb-jdCYjLNtTDQoe-GiOzGpm\" width=\"400\"></a>"
      ]
    },
    {
      "cell_type": "markdown",
      "metadata": {
        "id": "HWLrJFeFGEwj"
      },
      "source": [
        "<a href=\"https://upload.wikimedia.org/wikipedia/commons/thumb/6/63/GermanyBFS.svg/1280px-GermanyBFS.svg.png\"><img src=\"https://drive.google.com/uc?export=view&id=1y6G2q7_ThU4Jk4vrgDLJb_SlWaGR3hGR\" width=\"400\"></a>\n",
        "\n",
        "(Both figures are from Wikipedia's [BFS entry](https://en.wikipedia.org/wiki/Breadth-first_search))"
      ]
    },
    {
      "cell_type": "markdown",
      "metadata": {
        "id": "Fxodg2KUGEwj"
      },
      "source": [
        "Important properties of the BFS search tree:\n",
        "\n",
        "- __every graph node occurs only once__: this is ensured by the fact that we do not traverse to nodes that were already explored,\n",
        "- for any graph node in the search tree, the __tree path leading to the root__ contains the same nodes in the same order as __the shortest path in the graph__ between the starting node and the node in question. (Why? Because if there'd be a shorter path then the node would have been already explored in an earlier layer.)"
      ]
    },
    {
      "cell_type": "markdown",
      "metadata": {
        "id": "fbbD8LKjGEwk"
      },
      "source": [
        "## Depth-first search (DFS)\n",
        "\n",
        "An alternative, also very intuitive exploration strategy, which one would naturally use, e.g., in a maze, is to explore individual paths as far as possible, i.e.,\n",
        "+ try out the first edge from the starting node,\n",
        "+ then continue with exploring the first edge from the node you reached, and so on, until you reached a node which is a __dead end__, in the sense that all nodes directly available from it had been already explored.\n",
        "+ when a dead end is reached, __backtrack__ to the first node from which an unexplored node can be reached, and continue the exploration in the same manner from there."
      ]
    },
    {
      "cell_type": "markdown",
      "metadata": {
        "id": "qSVX9-c0GEwk"
      },
      "source": [
        "Similarly to BFS, the DFS strategy implicitly produces a __search tree__ during exploration. Examples of search trees for two simple (sub)graphs (nodes reachable from an edge are visited in alphabetical order):\n",
        "\n",
        "<a href=\"http://rosalind.info/media/dfsforest.png\"><img src=\"https://drive.google.com/uc?export=view&id=1OHEGHqF8gWoBFLPPO8UFiuMkjRrgCB6G\"></a>\n",
        "\n",
        "(Figure source: [ROSALIND Glossary: DFS](http://rosalind.info/glossary/algo-depth-first-search/))"
      ]
    },
    {
      "cell_type": "markdown",
      "metadata": {
        "id": "PJk6O2pxGEwk"
      },
      "source": [
        "This exploration method can be described in a particularly simple way in a recursive form, using a set to keep track which nodes have been already explored. For the sake of simplicity, we assume that there is a function `neighbors` which returns a  list of all neighbors of a node in the graph."
      ]
    },
    {
      "cell_type": "code",
      "execution_count": null,
      "metadata": {
        "id": "A08DYkq3GEwk"
      },
      "outputs": [],
      "source": [
        "def dfs(s):\n",
        "    explored = set() # the set of nodes we've already explored\n",
        "    explored.add(s)\n",
        "    print(\"exploring\", s) # just to see what's going on...\n",
        "    for n in neighbors(s):\n",
        "        if not n in explored:\n",
        "            dfs(n) # call again dfs recursively for all unexplored neighbors"
      ]
    },
    {
      "cell_type": "markdown",
      "metadata": {
        "id": "I_mzr4adGEwl"
      },
      "source": [
        "As a simple experiment, let's try the function we've defined on the second (sub)graph above!"
      ]
    },
    {
      "cell_type": "code",
      "execution_count": null,
      "metadata": {
        "id": "7pnz-GYOGEwl",
        "outputId": "bf2c71ac-54a1-4336-ee1c-cdb0e0ac5bd9"
      },
      "outputs": [
        {
          "name": "stdout",
          "output_type": "stream",
          "text": [
            "exploring C\n",
            "exploring D\n",
            "exploring H\n",
            "exploring G\n",
            "exploring K\n",
            "exploring L\n"
          ]
        }
      ],
      "source": [
        "adjacencies = {\"C\": [\"D\", \"G\", \"H\"],\n",
        "               \"D\": [\"C\", \"H\"],\n",
        "               \"G\": [\"C\", \"H\", \"K\"],\n",
        "               \"H\": [\"C\", \"D\", \"G\", \"K\", \"L\"],\n",
        "               \"K\": [\"G\", \"H\"],\n",
        "               \"L\": [\"H\"]}\n",
        "\n",
        "def neighbors(n):\n",
        "    return adjacencies[n]\n",
        "\n",
        "dfs(\"C\")"
      ]
    },
    {
      "cell_type": "markdown",
      "metadata": {
        "id": "Gyzd49xzGEwm"
      },
      "source": [
        "### BFS vs DFS search trees\n",
        "\n",
        "The two types of trees have important common properties:\n",
        "\n",
        "- they contain some of the nodes of the searched graph, and if the exploration is not stopped at a goal node and the graph is finite (!) they will eventually contain the same set of nodes, namely all nodes reachable from the start nodes, i.e. the __connected component__ in which the start node is contained. (This means that they can be used for __decomposing__ graphs into connected components.)"
      ]
    },
    {
      "cell_type": "markdown",
      "metadata": {
        "id": "x5X4yn-xGEwm"
      },
      "source": [
        "On the other hand, there are important differences too:\n",
        "\n",
        "- the DFS search tree does not have the property, noted above about BFS search trees, that paths in the tree between the root and other nodes correspond to shortest paths in the graph, because the DFS strategy might easily explore a suboptimal path to a node\n",
        "- the two trees \"grow differently\", and consequently tend to have different shapes:\n",
        "    + BFS search trees grow layer by layer and have the shortest possible root-leaf paths, while\n",
        "    + DFS search trees are narrow with longer root-leaf paths."
      ]
    },
    {
      "cell_type": "markdown",
      "metadata": {
        "id": "G9ktXg0bGEwm"
      },
      "source": [
        "## Implementing BFS and DFS with queues\n",
        "\n",
        "How can these search strategies be implemented efficiently? So far we have only seen a recursive \"sketch\" for DFS, which can blow the call stack on larger graphs, and does not deal with goal finding, only exploration.\n",
        "\n",
        "Before discussing goal finding, let's look at the efficient implementation of the two __exploration strategies__. Looking at how the search tree is developing, we can see that graph nodes can have three types of status in relation to the exploration and the corresponding search tree. A node can be\n",
        "\n",
        "- __(fully) explored__, i.e, __internal nodes__ of the search tree, with __all__ of their edges already examined/traversed during the process;\n",
        "- __at the frontier__, i.e. __leaves__ of the search tree that the exploration reached but not all of their edges were examined/traversed yet;\n",
        "- __(fully) unexplored__, i.e. not in the search tree yet, because it hasn't been reached."
      ]
    },
    {
      "cell_type": "markdown",
      "metadata": {
        "id": "2_DuIcNVGEwn"
      },
      "source": [
        "<a href=\"https://artint.info/figures/ch03/searchsp.gif\"><img src=\"https://drive.google.com/uc?export=view&id=1UXaVoRUmGgtb_2lgh4k0vOz8xe-9rj-8\"></a>"
      ]
    },
    {
      "cell_type": "markdown",
      "metadata": {
        "id": "PfTBuJ36GEwn"
      },
      "source": [
        "Once we introduce the the __frontier__ dynamic set (also called __open set__ by some), the difference between BFS and DFS can be formulated in terms of the order of exploring the nodes in this set:\n",
        "+ in DFS, once a node is added to the frontier (reached), its exploration soon begins, and backtracking is always to the last not fully processed node. In one word, the __frontier__ is explored on a LIFO basis, like a stack.\n",
        "+ in BFS, on the other hand, nodes added to the frontier are processed according to a FIFO order."
      ]
    },
    {
      "cell_type": "markdown",
      "metadata": {
        "id": "1BSI4LA7GEwn"
      },
      "source": [
        "This observation suggests the following basic implementations of the two strategies using a stack and fifo queue:"
      ]
    },
    {
      "cell_type": "code",
      "execution_count": null,
      "metadata": {
        "id": "4kvMRyL0GEwn"
      },
      "outputs": [],
      "source": [
        "def dfs_stack(s):\n",
        "    explored = set() # a set containing explored nodes\n",
        "    frontier = [s] # we are using an array as a LIFO queue (stack)\n",
        "    while frontier:\n",
        "        current = frontier.pop() # we pop the last element!\n",
        "        print(\"exploring\", current) # to see what's going on...\n",
        "        for n in neighbors(current):\n",
        "            if not n in explored and n not in frontier:\n",
        "                frontier.append(n)\n",
        "        explored.add(current)"
      ]
    },
    {
      "cell_type": "markdown",
      "metadata": {
        "id": "MKVCPYkXGEwn"
      },
      "source": [
        "Let's test this implementation as well (order will be a bit different from the recursive version, because of the children's ordering):"
      ]
    },
    {
      "cell_type": "code",
      "execution_count": null,
      "metadata": {
        "id": "03UpS1OwGEwn",
        "outputId": "8b2b8d61-0595-4041-8ac1-5da82de65353"
      },
      "outputs": [
        {
          "name": "stdout",
          "output_type": "stream",
          "text": [
            "exploring C\n",
            "exploring H\n",
            "exploring L\n",
            "exploring K\n",
            "exploring G\n",
            "exploring D\n"
          ]
        }
      ],
      "source": [
        "dfs_stack(\"C\")"
      ]
    },
    {
      "cell_type": "code",
      "execution_count": null,
      "metadata": {
        "id": "iowHhDt-GEwo"
      },
      "outputs": [],
      "source": [
        "def bfs(s):\n",
        "    explored = set() # a set containing explored nodes\n",
        "    frontier = [s] # we are using an array as a FIFO queue\n",
        "    while frontier:\n",
        "        current = frontier.pop(0) # the only difference: we pop the first element\n",
        "        print(\"exploring\", current) # to see what's going on...\n",
        "        for n in neighbors(current):\n",
        "            if not n in explored and n not in frontier:\n",
        "                frontier.append(n)\n",
        "        explored.add(current)"
      ]
    },
    {
      "cell_type": "code",
      "execution_count": null,
      "metadata": {
        "id": "77Ejh87sGEwo",
        "outputId": "3963cef9-bf3e-484a-c118-f681e236eb9c"
      },
      "outputs": [
        {
          "name": "stdout",
          "output_type": "stream",
          "text": [
            "exploring C\n",
            "exploring D\n",
            "exploring G\n",
            "exploring H\n",
            "exploring K\n",
            "exploring L\n"
          ]
        }
      ],
      "source": [
        "bfs(\"C\")"
      ]
    },
    {
      "cell_type": "markdown",
      "metadata": {
        "id": "0d89GlKnGEwo"
      },
      "source": [
        "## Handling goals"
      ]
    },
    {
      "cell_type": "markdown",
      "metadata": {
        "id": "YsTkmQTDGEwo"
      },
      "source": [
        "Our BFS and DFS versions are very basic, because they are just exploring the graphs, do not do anything about the goal states, not to mention the full solution, which is the __path__ between the start and a goal state.\n",
        "\n",
        "Starting with __recognizing and returning the goal__ we can add it easily to our core algorithms:"
      ]
    },
    {
      "cell_type": "code",
      "execution_count": null,
      "metadata": {
        "id": "Q3_rNiAGGEwo"
      },
      "outputs": [],
      "source": [
        "def dfs_w_goal(s):\n",
        "    if is_goal(s): # return the current node if it is a goal\n",
        "            return s\n",
        "    explored = set() # a set containing explored nodes\n",
        "    frontier = [s] # we are using an array as a LIFO queue (stack)\n",
        "    while frontier:\n",
        "        current = frontier.pop() # we pop the last element!\n",
        "        for n in neighbors(current):\n",
        "            if is_goal(n): # return the current node if it is a goal\n",
        "                return n\n",
        "            if not n in explored and n not in frontier:\n",
        "                frontier.append(n)\n",
        "        explored.add(current)\n",
        "\n",
        "def bfs_w_goal(s):\n",
        "    if is_goal(s): # return the current node if it is a goal\n",
        "            return s\n",
        "    explored = set() # a set containing explored nodes\n",
        "    frontier = [s] # we are using an array as a FIFO queue\n",
        "    while frontier:\n",
        "        current = frontier.pop(0) # the only difference: we pop the first element\n",
        "        for n in neighbors(current):\n",
        "            if is_goal(n): # return the current node if it is a goal\n",
        "                return n\n",
        "            if not n in explored and n not in frontier:\n",
        "                frontier.append(n)\n",
        "        explored.add(current)"
      ]
    },
    {
      "cell_type": "markdown",
      "metadata": {
        "id": "upBop-07GEwp"
      },
      "source": [
        "Let's try it out! We can test this on a bit more complicated graph we've seen earlier:\n",
        "\n",
        "<a href=\"https://upload.wikimedia.org/wikipedia/commons/thumb/a/ad/MapGermanyGraph.svg/1024px-MapGermanyGraph.svg.png\"><img src=\"https://drive.google.com/uc?export=view&id=17nxfo9Oqeb-jdCYjLNtTDQoe-GiOzGpm\" width=\"400px\"></a>"
      ]
    },
    {
      "cell_type": "code",
      "execution_count": null,
      "metadata": {
        "id": "hP5NwGRUGEwp"
      },
      "outputs": [],
      "source": [
        "adjacencies = {\"Frankfurt\": [\"Mannheim\", \"Würzburg\", \"Kassel\"],\n",
        "               \"Mannheim\": [\"Karlsruhe\", \"Frankfurt\"],\n",
        "               \"Würzburg\": [\"Erfurt\", \"Nürnberg\", \"Frankfurt\"],\n",
        "               \"Stuttgart\": [\"Nürnberg\"],\n",
        "               \"Kassel\": [\"Frankfurt\", \"München\"],\n",
        "               \"Karlsruhe\": [\"Mannheim\", \"Augsburg\"],\n",
        "               \"Erfurt\": [\"Würzburg\"],\n",
        "               \"Nürnberg\": [\"Würzburg\", \"Stuttgart\", \"München\"],\n",
        "               \"Augsburg\": [\"Karlsruhe\", \"München\"],\n",
        "               \"München\": [\"Augsburg\", \"Nürnberg\", \"Kassel\"]}\n",
        "\n",
        "def neighbors(x):\n",
        "    return adjacencies[x]"
      ]
    },
    {
      "cell_type": "code",
      "execution_count": null,
      "metadata": {
        "id": "3NTiwcFhGEwp",
        "outputId": "1f852bfb-5c76-4954-d6a4-7d5400c64c0c"
      },
      "outputs": [
        {
          "name": "stdout",
          "output_type": "stream",
          "text": [
            "Erfurt\n",
            "Augsburg\n"
          ]
        }
      ],
      "source": [
        "def is_goal(x):\n",
        "    return x in [\"Augsburg\",\"Erfurt\"]\n",
        "\n",
        "print(bfs_w_goal(\"Frankfurt\"))\n",
        "print(dfs_w_goal(\"Frankfurt\"))"
      ]
    },
    {
      "cell_type": "markdown",
      "metadata": {
        "id": "zxRmQSpqGEwp"
      },
      "source": [
        "Of course, as we said, this is still only part of a solution, because we typically need not only the found goal nodes, but also the __paths__ from the start to the goal. This can be solved by actually building the __search tree__ during search and returning the path using it."
      ]
    },
    {
      "cell_type": "code",
      "execution_count": null,
      "metadata": {
        "id": "FDknGJzTGEwp",
        "outputId": "39dfe641-1735-4ba1-f1da-e0daac185fef"
      },
      "outputs": [
        {
          "name": "stdout",
          "output_type": "stream",
          "text": [
            "Requirement already satisfied: treelib in /home/simka/anaconda3/envs/course/lib/python3.7/site-packages (1.6.1)\r\n",
            "Requirement already satisfied: future in /home/simka/anaconda3/envs/course/lib/python3.7/site-packages (from treelib) (0.18.2)\r\n"
          ]
        }
      ],
      "source": [
        "! pip install treelib\n",
        "from treelib import Tree"
      ]
    },
    {
      "cell_type": "code",
      "execution_count": null,
      "metadata": {
        "id": "gfYQbVj6GEwq"
      },
      "outputs": [],
      "source": [
        "def root_to_node_path(tree, node):\n",
        "    path = [node.tag]\n",
        "    while node.predecessor(tree.identifier):\n",
        "        node = tree.get_node(node.predecessor(tree.identifier))\n",
        "        path.append(node.tag)\n",
        "    return path[::-1]"
      ]
    },
    {
      "cell_type": "code",
      "execution_count": null,
      "metadata": {
        "id": "H2WLrtYiGEwq"
      },
      "outputs": [],
      "source": [
        "def bfs_w_solution(s):\n",
        "    search_tree = Tree()\n",
        "    explored = set() # a set containing explored graph nodes\n",
        "    start_node = search_tree.create_node(tag = s)\n",
        "    if is_goal(s): return search_tree, start_node\n",
        "    frontier = [start_node] # we are using an array as a FIFO queue\n",
        "    while frontier:\n",
        "        current = frontier.pop(0) # the only difference: we pop the first element\n",
        "        for n in neighbors(current.tag):\n",
        "            if not n in explored and n not in [n.tag for n in frontier]:\n",
        "                new_node = search_tree.create_node(tag = n, parent = current)\n",
        "                if is_goal(n): return search_tree, new_node\n",
        "                frontier.append(new_node)\n",
        "        explored.add(current.tag)"
      ]
    },
    {
      "cell_type": "code",
      "execution_count": null,
      "metadata": {
        "id": "gICk1LCIGEwq",
        "outputId": "cd59ab08-7677-465c-f2e5-a6405cae61d2"
      },
      "outputs": [
        {
          "name": "stdout",
          "output_type": "stream",
          "text": [
            "Frankfurt\n",
            "├── Kassel\n",
            "├── Mannheim\n",
            "│   └── Karlsruhe\n",
            "└── Würzburg\n",
            "    └── Erfurt\n",
            "\n",
            "Node(tag=Erfurt, identifier=c4c44c5e-9517-11eb-bcc8-ad67a5430f59, data=None)\n",
            "Path to a goal: ['Frankfurt', 'Würzburg', 'Erfurt']\n"
          ]
        }
      ],
      "source": [
        "tree, node = bfs_w_solution(\"Frankfurt\")\n",
        "tree.show()\n",
        "print(node)\n",
        "print(\"Path to a goal:\", root_to_node_path(tree,node))"
      ]
    },
    {
      "cell_type": "code",
      "execution_count": null,
      "metadata": {
        "id": "89oO-fkSGEw0"
      },
      "outputs": [],
      "source": [
        "def dfs_w_solution(s):\n",
        "    search_tree = Tree()\n",
        "    explored = set() # a set containing explored graph nodes\n",
        "    start_node = search_tree.create_node(tag = s)\n",
        "    if is_goal(s): return search_tree, start_node\n",
        "    frontier = [start_node] # we are using an array as a FIFO queue\n",
        "    while frontier:\n",
        "        current = frontier.pop() # the only difference: we pop the last element\n",
        "        for n in neighbors(current.tag):\n",
        "            if not n in explored and n not in [n.tag for n in frontier]:\n",
        "                new_node = search_tree.create_node(tag = n, parent = current)\n",
        "                if is_goal(n): return search_tree, new_node\n",
        "                frontier.append(new_node)\n",
        "        explored.add(current.tag)"
      ]
    },
    {
      "cell_type": "code",
      "execution_count": null,
      "metadata": {
        "id": "llgDQ8dxGEw0",
        "outputId": "45b603ff-1927-40c3-c2d5-9dd6c002c8b9"
      },
      "outputs": [
        {
          "name": "stdout",
          "output_type": "stream",
          "text": [
            "Frankfurt\n",
            "├── Kassel\n",
            "│   └── München\n",
            "│       └── Augsburg\n",
            "├── Mannheim\n",
            "└── Würzburg\n",
            "\n",
            "Node(tag=Augsburg, identifier=bc3fd0c6-9517-11eb-bcc8-ad67a5430f59, data=None)\n",
            "Path to a goal: ['Frankfurt', 'Kassel', 'München', 'Augsburg']\n"
          ]
        }
      ],
      "source": [
        "tree, node = dfs_w_solution(\"Frankfurt\")\n",
        "tree.show()\n",
        "print(node)\n",
        "print(\"Path to a goal:\", root_to_node_path(tree,node))"
      ]
    },
    {
      "cell_type": "markdown",
      "metadata": {
        "id": "05fQKkSaGEw1"
      },
      "source": [
        "## Undirected vs directed graphs\n",
        "\n",
        "Perhaps surprisingly, our entire discussion so far, including the concrete algorithms, was by and large independent of whether the graph which is explored / searched is directed or undirected, the only difference is which traversals are allowed. In the undirected case, for which we concentrated, we can expand the nodes to all \"neighbors\", in the directed case only \"directionally accessible neighbors\", i.e., children, or successors are added to the frontier when expanding a node, and this is the only diffeence.\n",
        "\n",
        "In the \"problems as graph search\" formulation we have started with, of course, edges are, in general, directed, because actions are typically irreversible."
      ]
    },
    {
      "cell_type": "markdown",
      "metadata": {
        "id": "X_q_YpspGEw1"
      },
      "source": [
        "## Complexity\n",
        "\n",
        "### BFS"
      ]
    },
    {
      "cell_type": "markdown",
      "metadata": {
        "id": "82k9_YhyGEw1"
      },
      "source": [
        "BFS is __complete__ in the sense that if there are solutions accessible from the start node/state then BFS is guaranteed to find one. In addition, BFS  also has the nice property that it finds a solution on the closest level to the root of the search tree, so if path cost is a nondecreasing function of the level/number of edges on the path then BFS is __optimal__ as well -- typically this happens if all edge weights/action costs are constant, say 1."
      ]
    },
    {
      "cell_type": "markdown",
      "metadata": {
        "id": "GUi0Cr9CGEw1"
      },
      "source": [
        "The __complexity__ of BFS is a different story: building the search tree can be very memory and time intensive. Disregarding the location of the goals and just in terms of potentially exploring the whole graph, the worst case time complexity is $\\mathcal O(n + e)$, where $n$ is the number of nodes and $e$ is that of edges, since all nodes are represented in the search tree and all edges are explored. Worst case space complexity is $\\mathcal O(n)$ because all nodes can figure in the search-tree.\n",
        "\n",
        "Since the location of the goals is a deciding factor and the graph is not always given explicitly (e.g., in AI problems), bounds based on it are often more informative. As for space requirements, if the closest solution is at a depth of $d$, and the generated search-tree is uniform with a $b$ branching factor, then in the worst case $\\mathcal O(b^d)$ nodes can be generated, all of which have to be stored. This means $\\mathcal O(b^d)$ worst case complexity both regarding space and time, consequently running the algorithm can be unfeasible even for small depth and branching factor combinations, e.g. if the depth is a few dozens and branching factor is 10. Especially the __memory requirements__ make BFS in essence unfeasible for reasonably sized applications."
      ]
    },
    {
      "cell_type": "markdown",
      "metadata": {
        "id": "3QcRltWiGEw2"
      },
      "source": [
        "### DFS"
      ]
    },
    {
      "cell_type": "markdown",
      "metadata": {
        "id": "JIWiSNAdGEw2"
      },
      "source": [
        "DFS is only __complete__ for finite graphs. If the search-tree can be infinitely expanded (even though nodes have only finite many edges) then this infinite expansion can \"miss\" the goals, and the search can continue indefinitely without ever returning a solution. Moreover, even if DFS finds a solution, it is not guaranteed to be an optimal solution in terms of path length, in contrast to BFS.\n",
        "\n",
        "As for complexity, the time complexity of DFS is also $\\mathcal O(n + e)$ in the worst case. Where DFS can have an advantage over BFS is __space complexity__:  with certain tricks and compromises, DFS can use dramatically less memory than BFS:\n",
        "\n",
        "+ In a tree-like version of DFS (in which we don't keep the explored set for checking circle-caused repetitions), it is enough the store and dynamically update __a single path__ leading to the actually explored node, together with information about which sibling nodes were not yet expanded -- a very small, radius-like frontier compared to the sphere-like one, of BFS.\n",
        "\n",
        "As a consequence, the __memory complexity__ of the search can be reduced to $\\mathcal O(bm)$, where $m$ is the maximum depth of the search tree, which is a huge improvement over BFS. Because of this difference, DFS variants are the common approach to practically all general graph search tasks in AI (SAT, constraint satisfaction etc.)."
      ]
    }
  ],
  "metadata": {
    "kernelspec": {
      "display_name": "Python 3 (ipykernel)",
      "language": "python",
      "name": "python3"
    },
    "language_info": {
      "codemirror_mode": {
        "name": "ipython",
        "version": 3
      },
      "file_extension": ".py",
      "mimetype": "text/x-python",
      "name": "python",
      "nbconvert_exporter": "python",
      "pygments_lexer": "ipython3",
      "version": "3.8.12"
    },
    "nbTranslate": {
      "displayLangs": [
        "*"
      ],
      "hotkey": "alt-t",
      "langInMainMenu": true,
      "sourceLang": "en",
      "targetLang": "fr",
      "useGoogleTranslate": true
    },
    "toc": {
      "base_numbering": 1,
      "nav_menu": {},
      "number_sections": true,
      "sideBar": true,
      "skip_h1_title": false,
      "title_cell": "Table of Contents",
      "title_sidebar": "Contents",
      "toc_cell": false,
      "toc_position": {},
      "toc_section_display": true,
      "toc_window_display": false
    },
    "varInspector": {
      "cols": {
        "lenName": 16,
        "lenType": 16,
        "lenVar": 40
      },
      "kernels_config": {
        "python": {
          "delete_cmd_postfix": "",
          "delete_cmd_prefix": "del ",
          "library": "var_list.py",
          "varRefreshCmd": "print(var_dic_list())"
        },
        "r": {
          "delete_cmd_postfix": ") ",
          "delete_cmd_prefix": "rm(",
          "library": "var_list.r",
          "varRefreshCmd": "cat(var_dic_list()) "
        }
      },
      "types_to_exclude": [
        "module",
        "function",
        "builtin_function_or_method",
        "instance",
        "_Feature"
      ],
      "window_display": false
    },
    "colab": {
      "provenance": []
    }
  },
  "nbformat": 4,
  "nbformat_minor": 0
}