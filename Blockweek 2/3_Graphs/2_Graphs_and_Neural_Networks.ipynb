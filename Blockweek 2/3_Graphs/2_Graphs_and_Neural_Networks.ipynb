{
 "cells": [
  {
   "cell_type": "markdown",
   "metadata": {
    "id": "1lEij_kFpvKW"
   },
   "source": [
    "# 1. Motivation and Use cases\n",
    "\n",
    "Graphs are a general language for describing and analyzing entities with relations/interactions\n",
    "\n",
    "\n",
    "\n",
    "See [here](https://arxiv.org/abs/2301.08210) for a paper that explains how graphs apply to a nunber of domains"
   ]
  },
  {
   "cell_type": "markdown",
   "metadata": {
    "id": "_AF1vytVtHK8"
   },
   "source": [
    "## 1.1. Examples of graphs "
   ]
  },
  {
   "cell_type": "markdown",
   "metadata": {
    "id": "rMY7ma3SshpY"
   },
   "source": [
    "Examples of Graphs 1\n",
    "\n",
    "<img src=\"http://drive.google.com/uc?export=view&id=16EBvpwzCd0dfh_ZqdQzS1lRn8W2MtJfK\" width=600 heigth=600>\n",
    "\n",
    "Source: [Jure Leskovec](http://web.stanford.edu/class/cs224w/) "
   ]
  },
  {
   "cell_type": "markdown",
   "metadata": {
    "id": "82RynmkZsj1f"
   },
   "source": [
    "Examples of graphs 2\n",
    "\n",
    "<img src=\"http://drive.google.com/uc?export=view&id=16fGG-C2h9CXdku3nMaD6YvL5eWPLbkGb\" width=600 heigth=600>\n",
    "\n",
    "Source: [Jure Leskovec](http://web.stanford.edu/class/cs224w/) "
   ]
  },
  {
   "cell_type": "markdown",
   "metadata": {
    "id": "E2BMg2Nhsx2p"
   },
   "source": [
    "Examples of graphs 3\n",
    "\n",
    "\n",
    "<img src=\"http://drive.google.com/uc?export=view&id=1jrR2l1OMDroBsiRDJljQrtLP_sCmmnQW\" width=600 heigth=600>\n",
    "\n",
    "Source: [Jure Leskovec](http://web.stanford.edu/class/cs224w/) "
   ]
  },
  {
   "cell_type": "code",
   "execution_count": 1,
   "metadata": {
    "colab": {
     "base_uri": "https://localhost:8080/",
     "height": 321
    },
    "executionInfo": {
     "elapsed": 9,
     "status": "ok",
     "timestamp": 1683448503265,
     "user": {
      "displayName": "Florian Ellsaesser",
      "userId": "02356441736154567181"
     },
     "user_tz": -120
    },
    "id": "aYNsVI27ObvN",
    "outputId": "c7998d5a-468b-493b-b779-cad9eb9dbaa0"
   },
   "outputs": [
    {
     "data": {
      "image/jpeg": "[encoded data removed]",
      "text/html": [
       "\n",
       "        <iframe\n",
       "            width=\"400\"\n",
       "            height=\"300\"\n",
       "            src=\"https://www.youtube.com/embed/2Bw5f4vYL98\"\n",
       "            frameborder=\"0\"\n",
       "            allowfullscreen\n",
       "            \n",
       "        ></iframe>\n",
       "        "
      ],
      "text/plain": [
       "<IPython.lib.display.YouTubeVideo at 0x7f99046c3580>"
      ]
     },
     "execution_count": 1,
     "metadata": {},
     "output_type": "execute_result"
    }
   ],
   "source": [
    "from IPython.display import YouTubeVideo\n",
    "YouTubeVideo('2Bw5f4vYL98')\n",
    "\n"
   ]
  },
  {
   "cell_type": "markdown",
   "metadata": {
    "id": "Vy4V8QP4hyr3"
   },
   "source": [
    " Networks (also known as Natural Graphs):\n",
    "- Social networks: Society is a collection of 7 + billion individuals\n",
    "- Communication and transactions:  Electronic devices, phone calls, financial transactions\n",
    "- Biomedicine: Interactions between genes/proteins regulate life\n",
    "- Brain connections: Our thoughts are hidden in the connections between billions of neurons\n"
   ]
  },
  {
   "cell_type": "markdown",
   "metadata": {
    "id": "hzM9eaOth1Ke"
   },
   "source": [
    "Graphs (as a representation):\n",
    "- Information/knowledge are organized and linked\n",
    "- Software can be represented as a graph\n",
    "- Similarity networks: Connect similar data points\n",
    "- Relational structures: Molecules, Scene graphs, 3D shapes, Particle-based physics simulations\n",
    "\n",
    "Sometimes the distinction between networks \\& graphs is blurred"
   ]
  },
  {
   "cell_type": "markdown",
   "metadata": {
    "id": "uAOcXk67tOsL"
   },
   "source": [
    "## 1.2. Challenge of Graph modelling and how it is dealt with"
   ]
  },
  {
   "cell_type": "markdown",
   "metadata": {
    "id": "imyiKJCYiTn6"
   },
   "source": [
    "**Main question how do we take advantage of this relational structure to make better predictions**"
   ]
  },
  {
   "cell_type": "markdown",
   "metadata": {
    "id": "JQ6l7Ztss7S1"
   },
   "source": [
    "<img src=\"http://drive.google.com/uc?export=view&id=1H4ZhDsiFkYekCPnwe2OqDQzL4LebX8vb\" width=600 heigth=600>\n"
   ]
  },
  {
   "cell_type": "markdown",
   "metadata": {
    "id": "cpEd829ks8uG"
   },
   "source": [
    "<img src=\"http://drive.google.com/uc?export=view&id=1JH6Oy_IxjIDYchfMLf7QnL4rNK7q3fkQ\" width=600 heigth=600>\n",
    "\n",
    "\n",
    "\n",
    "\n"
   ]
  },
  {
   "cell_type": "markdown",
   "metadata": {
    "id": "yZVAq10xs9MG"
   },
   "source": [
    "General idea/ task\n",
    "\n",
    "<img src=\"http://drive.google.com/uc?export=view&id=1T7NAbHoWcGJBLDzDbnW792MKp4vUilS7\" width=600 heigth=600>\n"
   ]
  },
  {
   "cell_type": "markdown",
   "metadata": {
    "id": "mwK73PFvtWxu"
   },
   "source": [
    "## 1.3. Some success cases of Graphs"
   ]
  },
  {
   "cell_type": "markdown",
   "metadata": {
    "id": "EY41iGpXtc9n"
   },
   "source": [
    "### 1.3.1 Protein folding Alpha Fold (Node level prediction task)\n",
    "\n",
    "\n",
    "https://www.deepmind.com/blog/alphafold-using-ai-for-scientific-discovery-2020\n",
    "\n",
    "\n",
    "key idea- Spatial graph\n",
    "\n",
    "nodes: amino acids in a protein sequqence\n",
    "Edges: proximity between amino acids (redidues)\n",
    "\n"
   ]
  },
  {
   "cell_type": "markdown",
   "metadata": {
    "id": "cnExw2sb00es"
   },
   "source": [
    "\n",
    "\n",
    "<img src=\"http://drive.google.com/uc?export=view&id=1k9-iY7Cfml57X_EDTGKHERgXRRH94-9y\" width=600 heigth=600>\n",
    "\n",
    "\n",
    "\n",
    "<img src=\"http://drive.google.com/uc?export=view&id=17khTjH20O8fXR58tdAJO4HawKZASK8vK\" width=600 heigth=600>\n",
    "\n",
    "\n",
    "\n",
    "\n",
    "<img src=\"http://drive.google.com/uc?export=view&id=1eeUCZJZGWmpNSMl0V5Cl8_8LHsYvQbuX\" width=600 heigth=600>\n",
    "\n"
   ]
  },
  {
   "cell_type": "markdown",
   "metadata": {
    "id": "twF0PZ9Vtcu3"
   },
   "source": [
    "### 1.3.2. Recommender Systems \n",
    "\n",
    "- Users interacts with items\n",
    "- Watch movies, buy merchandise, listen to music\n",
    "- Nodes: Users and items\n",
    "- Edges: User-item interactions\n",
    "- Goal: Recommend items users might like\n",
    "\n",
    "\n",
    "\n",
    "\n",
    "https://arxiv.org/abs/2105.06339"
   ]
  },
  {
   "cell_type": "markdown",
   "metadata": {
    "id": "oeGzGlXwC1kT"
   },
   "source": [
    "Other examples:\n",
    "- traffic prediction\n",
    "- drug interaction prediction\n",
    "- drug Dicovery \n"
   ]
  },
  {
   "cell_type": "markdown",
   "metadata": {
    "id": "ctUD3wQBeLWb"
   },
   "source": [
    "Nice introduction to [geometric deep learning](https://thegradient.pub/towards-geometric-deep-learning/)"
   ]
  },
  {
   "cell_type": "markdown",
   "metadata": {
    "id": "7hjuTWWop754"
   },
   "source": [
    "# _2. Graphs and graph embedding\n",
    "\n",
    "The following part of the notebook is heavily based on:\n",
    "https://distill.pub/2021/gnn-intro/\n",
    "\n",
    "## 2.1. Graphs\n",
    "A graph represents the relations (edges) between a collection of entities (nodes).\n",
    "\n",
    "\n",
    "<img src=\"http://drive.google.com/uc?export=view&id=1511IOi3F8b7SPl3TS9nWfp-ruosRRW5e\" width=600 heigth=600>\n",
    "\n",
    "<img src=\"http://drive.google.com/uc?export=view&id=1jAyvJaXEY6_j0XZwz51TD4M3oNIcbb-U\" width=600 heigth=600>\n",
    "\n",
    "<img src=\"http://drive.google.com/uc?export=view&id=1dO8H6OSN2RJ07VtuxvW9UoFhRyozf8_y\" width=600 heigth=600>"
   ]
  },
  {
   "cell_type": "markdown",
   "metadata": {
    "id": "qgEmIH2r6_Zb"
   },
   "source": [
    "## 2.2 Graph Embeddings\n",
    "\n",
    "To further describe nodes, edeges or entire graph, we can store information in each of these pieces\n",
    "\n",
    "Information is stored as vector describing properties, i.e. information about the element e.g.\n",
    "- if nodes represent people in a social network it might be age, income, gender and so on..\n",
    "- the vector for the edge of the social network might have information such as how long a relationship between two participants has existed\n",
    "- the vector of storing global attributes for a social netork might have information such as average centraility, or longest spanning tree\n",
    "\n",
    "The stored information can also be a learned embedding ( we will cover later onwards how such embeddings are learned)\n",
    "\n",
    "\n",
    "\n",
    "\n"
   ]
  },
  {
   "cell_type": "markdown",
   "metadata": {
    "id": "0aTHSrKsA7Bx"
   },
   "source": [
    "<img src=\"http://drive.google.com/uc?export=view&id=19-czKYCaDs_05g1QfAQW7A3syncn2Oz6\" width=600 heigth=600>\n",
    "\n",
    "<img src=\"http://drive.google.com/uc?export=view&id=1_EQk7psCTyHGF-HxJkzsnPZNPCxeU7Gs\" width=600 heigth=600>\n",
    "\n",
    "<img src=\"http://drive.google.com/uc?export=view&id=1Ffb7JhmY2UluUkDffy3C1oK1wd4tniPL\" width=600 heigth=600>"
   ]
  },
  {
   "cell_type": "markdown",
   "metadata": {
    "id": "-Bp3ck3lExV_"
   },
   "source": [
    "## 2.3 Directed vs. undirected graphs \n",
    "\n",
    "\n",
    "<img src=\"http://drive.google.com/uc?export=view&id=15ZK6Hgr3M07SgkutQIqeLrhsGS9PgpTG\" width=800 heigth=800>"
   ]
  },
  {
   "cell_type": "markdown",
   "metadata": {
    "id": "LVTr3iqqE805"
   },
   "source": [
    "# _3. Examples of Graphs\n",
    "\n",
    "Definition of Adjacency Matrix:\n",
    "\n",
    "- In a graph G, two graph vertices are adjacent if they are joined by a graph edge\n",
    "\n",
    "- A way of visualizing the connectivity of a graph is through its adjacency matrix (sometimes called connection matrix)\n",
    "\n",
    "- Matrix with rows and columns labeled by graph vertices, with a 1 (or 0) in position according to whether two nodes are adjacent i.e. are connected (or not)\n",
    "\n",
    "- The adjacency matrix (a.k.a. connection matrix) of a simple labeled graph is a matrix with rows and columns labeled by graph vertices, with a 1 or 0 in position $\\left(v_i, v_j\\right)$ according to whether $v_i$ and $v_j$ are adjacent (a.k.a connected) or not\n",
    "\n",
    "- For a simple graph with no self-loops, the adjacency matrix must have 0 s on the diagonal. For an undirected graph, the adjacency matrix is symmetric.\n",
    "\n",
    "\n",
    "\n",
    "\n",
    "<img src=\"http://drive.google.com/uc?export=view&id=1phKVZ1jCllDlQLcKuX03SDvyfOdwQc0l\" width=800 heigth=800>\n",
    "\n",
    "[Source:]( https://mathworld.wolfram.com/AdjacencyMatrix.html#:~:text=The%20adjacency%20matrix%2C%20sometimes%20also,have%200s%20on%20the%20diagonal)\n",
    "\n",
    "\n"
   ]
  },
  {
   "cell_type": "markdown",
   "metadata": {
    "id": "q1l4QvJxaGC3"
   },
   "source": [
    "## 3.1. Text\n",
    "<img src=\"http://drive.google.com/uc?export=view&id=1bJeFhU6quDXkLMqd88yXpgf7YIikcNxa\" width=800 heigth=800>\n",
    "\n",
    "digitize text by associating indices to each character, word, or token, and representing text as a sequence of these indices. This creates a simple directed graph, where each character or index is a node and is connected via an edge to the node that follows it.\n",
    "\n"
   ]
  },
  {
   "cell_type": "markdown",
   "metadata": {
    "id": "cLjVxJQNGBN-"
   },
   "source": [
    "\n",
    "## 3.2. Images\n",
    "\n",
    "- Each pixel represents a node and is connected via an edge to adjacent pixels\n",
    "- Each non-border pixel has exactly 8 neighbors, and the information stored at each node is a 3-dimensional vector representing the RGB value of the pixel\n",
    "\n",
    "\n",
    "<img src=\"http://drive.google.com/uc?export=view&id=1cmSRWJYDLSx7_M6BBt9CF6lDrBp2bxBE\" width=800 heigth=800>\n",
    "\n",
    "\n",
    "\n",
    "In practice this is not usually how text and images are encoded: these graph representations are redundant since all images and all text will have very regular structures. For instance, images have a banded structure in their adjacency matrix because all nodes (pixels) are connected in a grid. The adjacency matrix for text is just a diagonal line, because each word only connects to the prior word, and to the next one."
   ]
  },
  {
   "cell_type": "markdown",
   "metadata": {
    "id": "TDdVYnjFWkzp"
   },
   "source": [
    "## 3.3 Molecules \n",
    "\n",
    "When a pair of atoms are stuck in a stable distance from each other, we say they share a covalent bond. Different pairs of atoms and bonds have different distances (e.g. single-bonds, double-bonds)\n",
    "\n",
    "<img src=\"http://drive.google.com/uc?export=view&id=1V3t9CU1LW_kNcQjYW0wDEELWvf7yYLLo\" width=800 heigth=800>\n",
    "\n",
    "<img src=\"http://drive.google.com/uc?export=view&id=1WUxDeCcQ5lyXmH6FLfjOJguV1wlcElbp\" width=800 heigth=800>\n",
    "\n",
    "\n"
   ]
  },
  {
   "cell_type": "markdown",
   "metadata": {
    "id": "EGrEIjqGbFvE"
   },
   "source": [
    "## 3.4. Social networks\n",
    "\n",
    "We can build a graph representing groups of people by modelling individuals as nodes, and their relationships as edges.\n",
    "\n",
    "<img src=\"http://drive.google.com/uc?export=view&id=1WTy1FrCVMGijZHIV1MM7-Dgr1iCY-Myf\" width=800 heigth=800>\n",
    "\n",
    "<img src=\"http://drive.google.com/uc?export=view&id=1Q9HImiSLWaQljosQnqPJmBvYTQuVh9-K\" width=800 heigth=800>\n"
   ]
  },
  {
   "cell_type": "markdown",
   "metadata": {
    "id": "f-4bRSxBbRBY"
   },
   "source": [
    "## 3.5. Other examples\n",
    "Citation networks, Math formulas, Code"
   ]
  },
  {
   "cell_type": "markdown",
   "metadata": {
    "id": "PKlRVIwUbhlc"
   },
   "source": [
    "Graph datasets can vary widely (both within a given dataset, and between datasets) in terms of the number of nodes, edges, and the connectivity of nodes.\n",
    "\n",
    "<img src=\"http://drive.google.com/uc?export=view&id=1jB5suY1kItOdu1Tj0eCo_HfXZHYJr8ip\" width=800 heigth=800>\n",
    "\n"
   ]
  },
  {
   "cell_type": "markdown",
   "metadata": {
    "id": "nxmQumJXkYxz"
   },
   "source": [
    "# _4. Prediction tasks \n",
    "\n",
    "There are three general types of prediction tasks on graphs: graph-level, node-level, and edge-level.\n",
    "\n",
    "In a graph-level task, we predict a single property for a whole graph. For a node-level task, we predict some property for each node in a graph. For an edge-level task, we want to predict the property or presence of edges in a graph.\n",
    "\n",
    "All of these tasks can be solved with Graph Neural Networks"
   ]
  },
  {
   "cell_type": "markdown",
   "metadata": {
    "id": "59s5m2euo9BL"
   },
   "source": [
    "## 4.1 Property of  the entire Graph\n",
    "\n",
    "property of an entire graph. For example, for a molecule represented as a graph, we might want to predict what the molecule smells like, or whether it will bind to a receptor implicated in a disease.\n",
    "\n",
    "- analogous to classification on MNIST, CIFAR or labeling sentiment of sentence\n",
    "\n",
    "<img src=\"http://drive.google.com/uc?export=view&id=1k1eNxgsTEnJ08q1amMaq_FPwnm58ffcZ\" width=800 heigth=800>"
   ]
  },
  {
   "cell_type": "markdown",
   "metadata": {
    "id": "4OOfo4BAsWNA"
   },
   "source": [
    "## 4.2. Predicting the identity or role of each node within a graph.\n",
    "\n",
    "analogous to image segmentation, where we are trying to label the role of each pixel in an image. \n",
    "\n",
    "<img src=\"http://drive.google.com/uc?export=view&id=14dlYDtHnRqQuk9LT9wcOCER8GU92DcP5\" width=800 heigth=800>\n",
    "\n"
   ]
  },
  {
   "cell_type": "markdown",
   "metadata": {},
   "source": [
    "### Motivation: Classical example of node importance calculation - PageRank\n",
    "\n",
    "\n",
    "<img src=\"http://drive.google.com/uc?export=view&id=1EFZfWcSkVBOs16rxTxiMXoVaBxTqAIA-\" width=55%>\n",
    "\n",
    "[Wikipedia entry](https://en.wikipedia.org/wiki/PageRank)\n",
    "\n",
    "Insipration from [this video](https://www.youtube.com/watch?v=P8Kt6Abq_rM).\n",
    "\n",
    "<img src=\"http://drive.google.com/uc?export=view&id=16BGmHxuUWnPmswNZUUm2xMDQNRwZwRkG\" width=55%>"
   ]
  },
  {
   "cell_type": "code",
   "execution_count": 1,
   "metadata": {},
   "outputs": [],
   "source": [
    "!pip install networkx > /dev/null"
   ]
  },
  {
   "cell_type": "code",
   "execution_count": 2,
   "metadata": {},
   "outputs": [
    {
     "data": {
      "image/png": "[encoded data removed]",
      "text/plain": [
       "<Figure size 432x288 with 1 Axes>"
      ]
     },
     "metadata": {},
     "output_type": "display_data"
    }
   ],
   "source": [
    "import numpy as np\n",
    "\n",
    "import networkx as nx\n",
    "\n",
    "dict_repr = {\"A\":[\"B\",\"C\"], \"B\":[\"D\"], \"C\":[\"A\",\"B\",\"D\"], \"D\": [\"C\"]}\n",
    "\n",
    "net = nx.DiGraph(dict_repr)\n",
    "\n",
    "nx.draw(net, with_labels=True, width=3, node_size=500, node_color=\"red\", font_color=\"white\")"
   ]
  },
  {
   "cell_type": "code",
   "execution_count": 3,
   "metadata": {},
   "outputs": [],
   "source": [
    "nx.set_node_attributes(net, 0.25, \"pagerank\")"
   ]
  },
  {
   "cell_type": "code",
   "execution_count": 4,
   "metadata": {},
   "outputs": [
    {
     "data": {
      "text/plain": [
       "{'pagerank': 0.25}"
      ]
     },
     "execution_count": 4,
     "metadata": {},
     "output_type": "execute_result"
    }
   ],
   "source": [
    "net.nodes[\"A\"]"
   ]
  },
  {
   "cell_type": "code",
   "execution_count": 5,
   "metadata": {},
   "outputs": [],
   "source": [
    "steps = 10"
   ]
  },
  {
   "cell_type": "code",
   "execution_count": 6,
   "metadata": {},
   "outputs": [],
   "source": [
    "def update_node(node_key, net, printout=True):\n",
    "    \n",
    "   \n",
    "    sending_nodes = [source for source,target in net.in_edges(node_key)]\n",
    "    new_pagerank_weight = 0\n",
    "\n",
    "    if printout:\n",
    "        print(\"Processing node:\",node_key)\n",
    "        print(\"Current pagerank:\",net.nodes[node_key][\"pagerank\"])\n",
    "        print(\"Incoming edges from:\", sending_nodes)\n",
    "\n",
    "    for curr_node in sending_nodes:\n",
    "        curr_node_pr = net.nodes[curr_node][\"pagerank\"]\n",
    "        num_outgoing_edges = len(net.out_edges(curr_node))\n",
    "        pagerank_contribution = curr_node_pr/num_outgoing_edges\n",
    "        new_pagerank_weight += pagerank_contribution\n",
    "        \n",
    "        if printout:\n",
    "            print(\"Sending node:\", curr_node)\n",
    "            print(\"Sending node PR:\", curr_node_pr)\n",
    "            print(\"Sending node outgoing edges:\", num_outgoing_edges)\n",
    "            print(\"pagerank contribution:\", pagerank_contribution)    \n",
    "            print(\"New PR of node:\", new_pagerank_weight)\n",
    "            print(\"----------\")\n",
    "            \n",
    "    return new_pagerank_weight"
   ]
  },
  {
   "cell_type": "code",
   "execution_count": 10,
   "metadata": {},
   "outputs": [
    {
     "name": "stdout",
     "output_type": "stream",
     "text": [
      "\n",
      "Initialization  \n",
      "===============\n",
      "\n",
      "A 0.12548225308641978\n",
      "B 0.18769290123456792\n",
      "C 0.3741319444444444\n",
      "D 0.31269290123456794\n"
     ]
    }
   ],
   "source": [
    "print(\"\\nInitialization \",\"\\n===============\\n\")\n",
    "\n",
    "for node in net.nodes:\n",
    "    print(node, net.nodes[node][\"pagerank\"])"
   ]
  },
  {
   "cell_type": "code",
   "execution_count": 11,
   "metadata": {},
   "outputs": [
    {
     "name": "stdout",
     "output_type": "stream",
     "text": [
      "\n",
      "Step  0 \n",
      "===============\n",
      "\n",
      "A 0.12471064814814814\n",
      "B 0.18745177469135804\n",
      "C 0.37543402777777785\n",
      "D 0.3124035493827161\n",
      "\n",
      "Step  1 \n",
      "===============\n",
      "\n",
      "A 0.12514467592592596\n",
      "B 0.18750000000000003\n",
      "C 0.37475887345679015\n",
      "D 0.312596450617284\n",
      "\n",
      "Step  2 \n",
      "===============\n",
      "\n",
      "A 0.12491962448559672\n",
      "B 0.1874919624485597\n",
      "C 0.375168788580247\n",
      "D 0.31241962448559674\n",
      "\n",
      "Step  3 \n",
      "===============\n",
      "\n",
      "A 0.12505626286008234\n",
      "B 0.1875160751028807\n",
      "C 0.3748794367283951\n",
      "D 0.312548225308642\n",
      "\n",
      "Step  4 \n",
      "===============\n",
      "\n",
      "A 0.12495981224279835\n",
      "B 0.18748794367283952\n",
      "C 0.37507635673868317\n",
      "D 0.31247588734567905\n",
      "\n",
      "Step  5 \n",
      "===============\n",
      "\n",
      "A 0.12502545224622771\n",
      "B 0.18750535836762688\n",
      "C 0.37495579346707825\n",
      "D 0.31251339591906724\n",
      "\n",
      "Step  6 \n",
      "===============\n",
      "\n",
      "A 0.12498526448902608\n",
      "B 0.18749799061213995\n",
      "C 0.3750261220421811\n",
      "D 0.31249062285665297\n",
      "\n",
      "Step  7 \n",
      "===============\n",
      "\n",
      "A 0.1250087073473937\n",
      "B 0.18750133959190673\n",
      "C 0.37498325510116604\n",
      "D 0.3125066979595337\n",
      "\n",
      "Step  8 \n",
      "===============\n",
      "\n",
      "A 0.12499441836705534\n",
      "B 0.1874987720407522\n",
      "C 0.3750110516332305\n",
      "D 0.31249575795896206\n",
      "\n",
      "Step  9 \n",
      "===============\n",
      "\n",
      "A 0.1250036838777435\n",
      "B 0.18750089306127116\n",
      "C 0.37499296714248975\n",
      "D 0.3125024559184957\n"
     ]
    }
   ],
   "source": [
    "for i in range(steps):\n",
    "    print(\"\\nStep \", i,\"\\n===============\\n\")\n",
    "    update_dict = {}\n",
    "    for node in net.nodes:\n",
    "        update_dict[node] = update_node(node, net, printout=False)\n",
    "    for node in net.nodes:\n",
    "        net.nodes[node][\"pagerank\"] = update_dict[node]\n",
    "        print(node, update_dict[node])\n",
    "\n",
    "            \n",
    "    "
   ]
  },
  {
   "cell_type": "code",
   "execution_count": 12,
   "metadata": {},
   "outputs": [
    {
     "name": "stdout",
     "output_type": "stream",
     "text": [
      "\n",
      "Final state  \n",
      "===============\n",
      "\n",
      "A 0.1250036838777435\n",
      "B 0.18750089306127116\n",
      "C 0.37499296714248975\n",
      "D 0.3125024559184957\n"
     ]
    }
   ],
   "source": [
    "print(\"\\nFinal state \",\"\\n===============\\n\")\n",
    "\n",
    "for node in net.nodes:\n",
    "    print(node, net.nodes[node][\"pagerank\"])"
   ]
  },
  {
   "cell_type": "markdown",
   "metadata": {
    "id": "9iaIaDrZYYau"
   },
   "source": [
    "## 4.3. Edge-level task\n",
    "\n",
    "\n",
    "\n",
    "<img src=\"http://drive.google.com/uc?export=view&id=1jbHOELYczleoeLUqFCf6JtI4WrHZ1UdY\" width=800 heigth=800>\n",
    "\n",
    "<img src=\"http://drive.google.com/uc?export=view&id=1LM6HHd_n6za6GwwswzbLU9XBST20qxI4\" width=800 heigth=800>\n",
    "\n",
    "\n",
    "\n",
    "e.g. knowledge graph link detection, image scene detection"
   ]
  },
  {
   "cell_type": "markdown",
   "metadata": {
    "id": "ciB3xJ-OdO-j"
   },
   "source": [
    "# _5 Representing graphs for machine learning\n",
    "\n",
    "- How to represent graphs to be compatible with neural networks\n",
    "- Machine learning models usually take rectangular or grid like arrays as inputs \n",
    "- However, representing a graph’s connectivity is more complicated\n",
    "\n",
    "Perhaps the most obvious choice would be to use an adjacency matrix, since this is easily tensorisable. However, this representation has a few drawbacks. From the example dataset table, we see the number of nodes in a graph can be on the order of millions, and the number of edges per node can be highly variable. Often, this leads to very sparse adjacency matrices, which are space-inefficient.\n",
    "\n"
   ]
  },
  {
   "cell_type": "markdown",
   "metadata": {
    "id": "wH3KmJ3ZhTjf"
   },
   "source": [
    "Another problem is that there are many adjacency matrices that can encode the same connectivity, and there is no guarantee that these different matrices would produce the same result in a deep neural network (that is to say, they are not permutation invariant).\n",
    "\n",
    "\n",
    "\n",
    "\n",
    "\n",
    "<img src=\"http://drive.google.com/uc?export=view&id=1jubqa_aBgOLnOuQVcAx1Yz0OuWKzyxv-\" width=800 heigth=800>\n",
    "\n"
   ]
  },
  {
   "cell_type": "markdown",
   "metadata": {
    "id": "UfwqKxtgo2-8"
   },
   "source": [
    "One elegant and memory-efficient way of representing sparse matrices is as adjacency lists. These describe the connectivity of edge $e_k$ between nodes $n_i$ and $n_j$ as a tuple (i,j) in the k-th entry of an adjacency list. Since we expect the number of edges to be much lower than the number of entries for an adjacency matrix ( $n_{\\text {nodes }}^2$ ), we avoid computation and storage on the disconnected parts of the graph.\n",
    "\n",
    "<img src=\"http://drive.google.com/uc?export=view&id=1gTruHGMo5Vz6stLU61R0exbuyOw8fZmU\" width=800 heigth=800>\n",
    "\n",
    "It should be noted that the figure uses scalar values per node/edge/global, but most practical tensor representations have vectors per graph attribute. Instead of a node tensor of size $\\left[n_{\\text {nodes }}\\right]$ we will be dealing with node tensors of size $\\left[n_{\\text {nodes }}\\right.$, node $\\left.e_{\\text {dim }}\\right]$. Same for the other graph attributes."
   ]
  },
  {
   "cell_type": "markdown",
   "metadata": {
    "id": "NZ_WLh5cxTBb"
   },
   "source": [
    "# 6 A Graph Neural Network\n",
    "\n",
    "A GNN is an optimizable transformation on all attributes of the graph (nodes, edges, global-context) that preserves graph symmetries (permutation invariances)"
   ]
  },
  {
   "cell_type": "markdown",
   "metadata": {
    "id": "RmVHNT59yK8L"
   },
   "source": [
    "## 6.1. Simple GNN\n",
    "\n",
    "This GNN uses a separate multilayer perceptron (MLP) (or your favorite differentiable model) on each component of a graph; we call this a GNN layer. For each node vector, we apply the MLP and get back a learned node-vector. We do the same for each edge, learning a per-edge embedding, and also for the global-context vector, learning a single embedding for the entire graph."
   ]
  },
  {
   "cell_type": "markdown",
   "metadata": {
    "id": "9JJYx-sMQBvb"
   },
   "source": [
    "## 6.2. GNN Predictions by Pooling Information\n",
    "\n",
    "- How do we make predictions?\n",
    "\n",
    "If the task is to make binary predictions on nodes, and the graph already contains node information, the approach is straightforward — for each node embedding, apply a linear classifier.\n",
    "\n",
    "<img src=\"http://drive.google.com/uc?export=view&id=1w6Cp41-hmA1v-beONolLhpYN4WP8KDCN\" width=800 heigth=800>\n",
    "\n",
    "\n",
    "\n",
    "\n",
    "\n",
    "\n",
    "\n",
    "\n",
    "\n",
    "\n",
    "\n",
    "\n",
    "\n"
   ]
  },
  {
   "cell_type": "markdown",
   "metadata": {
    "id": "yG9LLUfkyFaR"
   },
   "source": [
    "However, it is not always so simple. For instance, you might have information in the graph stored in edges, but no information in nodes, but still need to make predictions on nodes. We need a way to **collect information** from edges and give them to nodes for prediction. We can do this by pooling. Pooling proceeds in two steps:\n",
    "1. For each item to be pooled, gather each of their embeddings and concatenate them into a matrix.\n",
    "2. The gathered embeddings are then aggregated, usually via a sum operation.\n",
    "We represent the pooling operation by the letter $  \\rho $ , and denote that we are gathering information from edges to nodes as $ p_{E_n \\rightarrow V_n} $.\n",
    "\n",
    "\n",
    "\n",
    "\n",
    "\n",
    "\n",
    "\n",
    "<img src=\"http://drive.google.com/uc?export=view&id=1CfhiiYUCczsENlsGR3lhN_brZG_rYOBn\" width=800 heigth=800>"
   ]
  },
  {
   "cell_type": "markdown",
   "metadata": {
    "id": "UcZNTYJ6xsu2"
   },
   "source": [
    "So If we only have edge-level features, and are trying to predict binary node information, we can use pooling to route (or pass) information to where it needs to go. The model looks like this.\n",
    "\n",
    "<img src=\"http://drive.google.com/uc?export=view&id=1Wp3NNcfoT55EolVDNJETwG5dO1j3_lmk\" width=800 heigth=800>\n"
   ]
  },
  {
   "cell_type": "markdown",
   "metadata": {
    "id": "rBg6Z9o8xt67"
   },
   "source": [
    "If we only have node-level features, and are trying to predict binary edge-level information, the model looks like this.\n",
    "\n",
    "\n",
    "<img src=\"http://drive.google.com/uc?export=view&id=1IBZeNLkD2cxV-9GhaeTi4Ozu9OCJAaDc\" width=800 heigth=800>\n"
   ]
  },
  {
   "cell_type": "markdown",
   "metadata": {
    "id": "xS52e4ILxuba"
   },
   "source": [
    "If we only have node-level features, and need to predict a binary global property, we need to gather all available node information together and aggregate them. This is similar to Global Average Pooling layers in CNNs. The same can be done for edges.\n",
    "\n",
    "\n",
    "<img src=\"http://drive.google.com/uc?export=view&id=1g-X2IsIbnIOJq4Cn_lB7wtkNLr9u0pEN\" width=800 heigth=800>\n",
    "\n",
    "\n"
   ]
  },
  {
   "cell_type": "markdown",
   "metadata": {
    "id": "NNmWq_HwxvCK"
   },
   "source": [
    "In our examples, the classification model c can easily be replaced with any differentiable model, or adapted to multi-class classification using a generalized linear model.\n",
    "\n",
    "<img src=\"http://drive.google.com/uc?export=view&id=1L4MHczeuXJoG8KhGt1VlTOqTAA0LkcWb\" width=800 heigth=800>\n",
    "\n",
    "This pooling technique will serve as a building block for constructing more sophisticated GNN models. If we have new graph attributes, we just have to define how to pass information from one attribute to another.\n",
    "\n",
    "Note that in this simplest GNN formulation, we’re not using the connectivity of the graph at all inside the GNN layer. Each node is processed independently, as is each edge, as well as the global context. We only use connectivity when pooling information for prediction."
   ]
  },
  {
   "cell_type": "markdown",
   "metadata": {
    "id": "RbFy0PPzVLdq"
   },
   "source": [
    "## 6.3 Passing messages between parts of the graph\n",
    "\n",
    "We could make more sophisticated predictions by using pooling within the GNN layer, in order to make our learned embeddings aware of graph connectivity. We can do this using message passing, where neighboring nodes or edges exchange information and influence each other's updated embeddings.\n",
    "Message passing works in three steps:\n",
    "1. For each node in the graph, gather all the neighboring node embeddings (or messages), which is the \\( g \\) function described above.\n",
    "2. Aggregate all messages via an aggregate function (like sum).\n",
    "3. All pooled messages are passed through an update function, usually a learned neural network.\n",
    "Just as pooling can be applied to either nodes or edges, message passing can occur between either nodes or edges.\n",
    "\n",
    "These steps are key for leveraging the connectivity of graphs. We will build more elaborate variants of message passing in GNN layers that yield GNN models of increasing expressiveness and power.\n"
   ]
  },
  {
   "cell_type": "markdown",
   "metadata": {
    "id": "_gmw-LHzZ-L6"
   },
   "source": [
    "\n",
    "\n",
    "<img src=\"http://drive.google.com/uc?export=view&id=1Hb4YUKfiwkF4FUVh5Omqrq8tm93abtaL\" width=800 heigth=800>\n",
    "\n",
    "\n",
    "This is reminiscent of standard convolution: in essence, message passing and convolution are operations to aggregate and process the information of an element’s neighbors in order to update the element’s value. In graphs, the element is a node, and in images, the element is a pixel. However, the number of neighboring nodes in a graph can be variable, unlike in an image where each pixel has a set number of neighboring elements.\n",
    "\n",
    "By stacking message passing GNN layers together, a node can eventually incorporate information from across the entire graph: after three layers, a node has information about the nodes three steps away from it.\n",
    "\n",
    "<img src=\"http://drive.google.com/uc?export=view&id=15brllkTltn84-Xrqfun03meJwF-IH6kj\" width=800 heigth=800>\n",
    "\n",
    "\n"
   ]
  },
  {
   "cell_type": "markdown",
   "metadata": {
    "id": "YvVAW_M5btYa"
   },
   "source": [
    "## Adding Edge representation \n",
    "We can incorporate the information from neighboring edges in the same way we used neighboring node information earlier, by first pooling the edge information, transforming it with an update function, and storing it.\n",
    "\n",
    "However, the node and edge information stored in a graph are not necessarily the same size or shape, so it is not immediately clear how to combine them. One way is to learn a linear mapping from the space of edges to the space of nodes, and vice versa. Alternatively, one may concatenate them together before the update function\n",
    "<img src=\"http://drive.google.com/uc?export=view&id=1XnU0THk5IFxbfOZ9W8vL85UpruqROhjo\" width=800 heigth=800>\n",
    "\n",
    "\n",
    "Which graph attributes we update and in which order we update them is one design decision when constructing GNNs. We could choose whether to update node embeddings before edge embeddings, or the other way around. This is an open area of research with a variety of solutions– for example we could update in a ‘weave’ fashion\n",
    " where we have four updated representations that get combined into new node and edge representations: node to node (linear), edge to edge (linear), node to edge (edge layer), edge to node (node layer).\n",
    "\n",
    "<img src=\"http://drive.google.com/uc?export=view&id=1L4MHczeuXJoG8KhGt1VlTOqTAA0LkcWb\" width=800 heigth=800>\n",
    "\n",
    "\n",
    "\n"
   ]
  },
  {
   "cell_type": "markdown",
   "metadata": {
    "id": "G4dw5Fnwbw1e"
   },
   "source": [
    "## Adding global representations\n",
    "\n",
    "Nodes that are far away from each other in the graph may never be able to efficiently transfer information to one another, even if we apply message passing several times. For one node, If we have k-layers, information will propagate at most k-steps away. This can be a problem for situations where the prediction task depends on nodes, or groups of nodes, that are far apart. One solution would be to have all nodes be able to pass information to each other. Unfortunately for large graphs, this quickly becomes computationally expensive (although this approach, called ‘virtual edges’, has been used for small graphs such as molecules).\n",
    "\n",
    "\n",
    "One solution to this problem is by using the global representation of a graph (U) which is sometimes called a master node or context vector. This global context vector is connected to all other nodes and edges in the network, and can act as a bridge between them to pass information, building up a representation for the graph as a whole. This creates a richer and more complex representation of the graph than could have otherwise been learned.\n",
    "<img src=\"http://drive.google.com/uc?export=view&id=1VvQPfyyr-IY6Fhj4dj3WslzkPe5rXkyX\" width=800 heigth=800>\n",
    "\n",
    "In this view all graph attributes have learned representations, so we can leverage them during pooling by conditioning the information of our attribute of interest with respect to the rest. For example, for one node we can consider information from neighboring nodes, connected edges and the global information. To condition the new node embedding on all these possible sources of information, we can simply concatenate them. Additionally we may also map them to the same space via a linear map and add them or apply a feature-wise modulation layer\n",
    "[22]\n",
    ", which can be considered a type of featurize-wise attention mechanism.\n",
    "\n",
    "\n",
    "<img src=\"http://drive.google.com/uc?export=view&id=1D1Uje3ZFKlbM14vzIaB-Z9r5QpyMigbB\" width=800 heigth=800>"
   ]
  },
  {
   "cell_type": "markdown",
   "metadata": {
    "id": "C6zmq45HUBAf"
   },
   "source": [
    "## 6.4 Convolutional graph neural networks\n",
    "\n",
    "Every neural network layer can be written as a non-linear function\n",
    "$$\n",
    "H^{(l+1)}=f\\left(H^{(l)}, A\\right)\n",
    "$$\n",
    "with $H^{(0)}=X$ and $H^{(L)}=Z$ (or $z$ for graph-level outputs), $L$ being the number of layers. The specific models then differ only in how $f(\\cdot, \\cdot)$ is chosen and parameterized.\n",
    "\n",
    "As an example, let's consider the following simple form of a layer-wise propagation rule:\n",
    "$$\n",
    "f\\left(H^{(l)}, A\\right)=\\sigma\\left(A H^{(l)} W^{(l)}\\right)\n",
    "$$\n",
    "where $W^{(l)}$ is a weight matrix for the $l$-th neural network layer, $A$ is the adjacency matrix, and $\\sigma(\\cdot)$ is a non-linear activation function like the ReLU. Despite its simplicity this model is already quite powerful (we'll come to that in a moment).\n",
    "\n",
    "This simple model has two limitations: multiplication with $A$ means that, for every node, we sum up all the feature vectors of all neighboring nodes but not the node itself (unless there are self-loops in the graph). We can \"fix\" this by enforcing self-loops in the graph: we simply add the identity matrix to $A$.\n",
    "\n",
    "The second major limitation is that $A$ is typically not normalized and therefore the multiplication with $A$ will completely change the scale of the feature vectors (we can understand that by looking at the eigenvalues of $A$ ). Normalizing $A$ such that all rows sum to one, i.e. $D^{-1} A$, where $D$ is the diagonal node degree matrix, gets rid of this problem. Multiplying with $D^{-1} A$ now corresponds to taking the average of neighboring node features. In practice, dynamics get more interesting when we use a symmetric normalization, i.e. $D^{-\\frac{1}{2}} A D^{-\\frac{1}{2}}$ (as this no longer amounts to mere averaging of neighboring nodes). Combining these two tricks, we essentially arrive at the propagation rule introduced in Kipf \\& Welling (ICLR 2017):\n",
    "$$\n",
    "f\\left(H^{(l)}, A\\right)=\\sigma\\left(\\hat{D}^{-\\frac{1}{2}} \\hat{A} \\hat{D}^{-\\frac{1}{2}} H^{(l)} W^{(l)}\\right)\n",
    "$$\n",
    "with $\\hat{A}=A+I$, where $I$ is the identity matrix and $\\hat{D}$ is the diagonal node degree matrix of $\\hat{A}$.\n",
    "\n",
    "[see](https://tkipf.github.io/graph-convolutional-networks/)\n",
    "\n",
    "For a gernal introduction and the relationship to other types of neural networks architectures also see\n",
    "\n",
    "[here](https://arxiv.org/pdf/2301.08210.pdf)"
   ]
  },
  {
   "cell_type": "markdown",
   "metadata": {},
   "source": [
    "### Assumption\n",
    "\n",
    "- All nodes have corresponding vectors with information.\n",
    "\n",
    "<img src=\"http://drive.google.com/uc?export=view&id=1_rPcpvw7T9PEZdwec43pSG3NkctsnqtY\" width=25%>\n",
    "\n",
    "- Things happen in consecutive timesteps\n",
    "\n",
    "<img src=\"http://drive.google.com/uc?export=view&id=1Xoh5OJYdKbp-TdLsvzPHdr6RSz5cIHbB\" width=45%>\n",
    "\n",
    "__One timestep can be considered one \"layer\".__"
   ]
  },
  {
   "cell_type": "markdown",
   "metadata": {},
   "source": [
    "### Formula details\n",
    "\n",
    "$$\n",
    "h_i^{t+1}=f(h_i^tW + \\sum\\limits_{j\\in N(i)} {1\\over c_{ij}}h_j^tU)\n",
    "$$\n",
    "\n",
    "#### What are the learned weights?\n",
    "\n",
    "<img src=\"http://drive.google.com/uc?export=view&id=1x2zdfceiFmKpb-YgznUYCQvtjoPceT5x\">\n",
    "\n",
    "#### What do we keep from the node's previous embedding?\n",
    "\n",
    "<img src=\"http://drive.google.com/uc?export=view&id=1PPZMiFg8w3SAngzrM6y_Ygk6S5PeorWi\">\n",
    "\n",
    "#### What do we take from every neighbor?\n",
    "\n",
    "<img src=\"http://drive.google.com/uc?export=view&id=1o7HeDGXBjhLaKekdU29AZ6HCWZfWbOs5\">\n",
    "\n",
    "#### We do normalize...\n",
    "\n",
    "<img src=\"http://drive.google.com/uc?export=view&id=1E7nHKtvPnOIEdoMdNdRTJxKwXr5DEg1d\">\n",
    "\n",
    "#### ...Permutation invariant aggregation function...\n",
    "\n",
    "<img src=\"http://drive.google.com/uc?export=view&id=1f7NC6Ck-HweTUaE5N1-4lX2pthLbnBWO\">\n"
   ]
  },
  {
   "cell_type": "markdown",
   "metadata": {},
   "source": [
    "## Result\n",
    "\n",
    "<img src=\"http://drive.google.com/uc?export=view&id=1HGgVFvkS5dVBpituMdxguvDr9ekAzxxh\" width=45%>\n",
    "\n",
    "[source](https://snap-stanford.github.io/cs224w-notes/machine-learning-with-networks/node-representation-learning)\n",
    "\n",
    "Remember? __Representation learning__!\n",
    "\n",
    "<img src=\"http://drive.google.com/uc?export=view&id=1q6TEXhcZ0hU9nv4CycGcNJyUb9RqC_Xy\" width=45%>\n",
    "\n",
    "<img src=\"http://drive.google.com/uc?export=view&id=1UFV35b84geZTymaTKQBpLXva8efafloW\" width=45%>\n",
    "\n",
    "<img src=\"http://drive.google.com/uc?export=view&id=1Aqx6qLy9pVt1-p2IG_CM0SKLnh7-Y2cI\" width=45%>\n",
    "\n",
    "\n",
    "Say with edge length as a distance function to approximate..."
   ]
  },
  {
   "cell_type": "markdown",
   "metadata": {},
   "source": [
    "### Task: Let's think through together:\n",
    "\n",
    "- Link prediction\n",
    "- Node classification\n",
    "- Node clustering / recommendation\n",
    "- Graph classification \n",
    "...\n",
    "\n",
    "cases with the GNN representation!"
   ]
  },
  {
   "cell_type": "markdown",
   "metadata": {
    "id": "m3cl2bJXWgU4"
   },
   "source": [
    "## 6.5 [Graph Attention Neural Networks](https://arxiv.org/pdf/1710.10903.pdf)\n"
   ]
  },
  {
   "cell_type": "markdown",
   "metadata": {
    "id": "mVmk9tHsWxWG"
   },
   "source": [
    "**Basic set-up**\n",
    "- Follows closely Bahdanau et al. (2015)\n",
    "- Input to layer is a set of node features, $\\mathbf{h}=\\left\\{\\vec{h}_1, \\vec{h}_2, \\ldots, \\vec{h}_N\\right\\}, \\vec{h}_i \\in \\mathbb{R}^F$\n",
    "- \"here $N$ is the number of nodes, and $F$ is the number of features in each node\n",
    "- Layer produces a new set of node features (of potentially different cardinality $F^{\\prime}$ ), $\\mathbf{h}^{\\prime}=\\left\\{\\vec{h}_1^{\\prime}, \\vec{h}_2^{\\prime}, \\ldots, \\vec{h}_N^{\\prime}\\right\\}, \\vec{h}_i^{\\prime} \\in \\mathbb{R}^{F^{\\prime}}$, as output\n",
    "- Again the node features could be the adjacent nodes, edges, master node or all of the above"
   ]
  },
  {
   "cell_type": "markdown",
   "metadata": {
    "id": "9WpUrPEoWxS-"
   },
   "source": [
    "**Step 1- apply learning weight matrix applied to featues of each node**\n",
    "\n",
    " computes attention coefficients\n",
    "$$\n",
    "e_{i j}=a\\left(\\mathbf{W} \\vec{h}_i, \\mathbf{W} \\vec{h}_j\\right)\n",
    "$$\n",
    "\n",
    "indicates the importance of node $j$ 's features to node $i$"
   ]
  },
  {
   "cell_type": "markdown",
   "metadata": {
    "id": "_jFqNHAFZnFw"
   },
   "source": [
    "**Masked attention**\n",
    "\n",
    "- Inject the graph structure into the mechanism by performing masked attention - we only compute $e_{i j}$ for nodes $j \\in \\mathcal{N}_i$, where $\\mathcal{N}_i$ is some neighborhood of node $i$ in the graph.\n",
    "- Usually first order neighbours (including node itself)"
   ]
  },
  {
   "cell_type": "markdown",
   "metadata": {
    "id": "GYd9cJp5WxFO"
   },
   "source": [
    "**Normalize using Softmax**\n",
    "\n",
    "$$\n",
    "\\alpha_{i j}=\\operatorname{softmax}_j\\left(e_{i j}\\right)=\\frac{\\exp \\left(e_{i j}\\right)}{\\sum_{k \\in \\mathcal{N}_i} \\exp \\left(e_{i k}\\right)} .\n",
    "$$"
   ]
  },
  {
   "cell_type": "markdown",
   "metadata": {
    "id": "qRlqjtXIaSmR"
   },
   "source": [
    "**Network sturture and activation**\n",
    "- Original paper uses single layer feed forward NN parametrized by a weight vector $\\overrightarrow{\\mathbf{a}} \\in \\mathbb{R}^{2 F^{\\prime}}$ and applying LeakyReLU\n",
    "- Hence fully expanded output is\n",
    "$$\n",
    "\\alpha_{i j}=\\frac{\\exp \\left(\\operatorname{LeakyReLU}\\left(\\overrightarrow{\\mathbf{a}}^T\\left[\\mathbf{W} \\vec{h}_i \\| \\mathbf{W} \\vec{h}_j\\right]\\right)\\right)}{\\sum_{k \\in \\mathcal{N}_i} \\exp \\left(\\operatorname{LeakyReLU}\\left(\\overrightarrow{\\mathbf{a}}^T\\left[\\mathbf{W} \\vec{h}_i \\| \\mathbf{W} \\vec{h}_k\\right]\\right)\\right)}\n",
    "$$\n",
    "\n",
    "where ${ }^T$ represents transposition and $\\|$ is the concatenation operation."
   ]
  },
  {
   "cell_type": "markdown",
   "metadata": {
    "id": "0CHvNjaCa6tZ"
   },
   "source": [
    "**Compute linear combination of the features**\n",
    "- Normalized attention coefficients used to obtain linear combination of the features corresponding to them\n",
    "- after potentiall applying a nonlinearity $\\sigma$ \n",
    "\n",
    "$$\n",
    "\\vec{h}_i^{\\prime}=\\sigma\\left(\\sum_{j \\in \\mathcal{N}_i} \\alpha_{i j} \\mathbf{W} \\vec{h}_j\\right) .\n",
    "$$"
   ]
  },
  {
   "cell_type": "markdown",
   "metadata": {
    "id": "l2g5p6czepct"
   },
   "source": [
    "**Multi head attention version**\n",
    "\n",
    "$$\n",
    "\\vec{h}_i^{\\prime}=\\|_{k=1}^K \\sigma\\left(\\sum_{j \\in \\mathcal{N}_i} \\alpha_{i j}^k \\mathbf{W}^k \\vec{h}_j\\right)\n",
    "$$\n",
    "\n",
    "where $\\|$ represents concatenation, $\\alpha_{i j}^k$ are normalized attention coefficients computed by the $k$-th attention mechanism $\\left(a^k\\right)$, and $\\mathbf{W}^k$ is the corresponding input linear transformation's weight matrix.\n",
    "\n",
    "An alternative could be to sum over the output of the individual attention layers (if dimensionality is to be reduced) "
   ]
  },
  {
   "cell_type": "markdown",
   "metadata": {
    "id": "489xfS_FqBgh"
   },
   "source": [
    "# 7 Knowledge Graphs and reasoning\n",
    "\n",
    "\n",
    "[see](https://aws-dglke.readthedocs.io/en/latest/kg.html#common-connectivity-patterns) \n",
    "\n"
   ]
  },
  {
   "cell_type": "markdown",
   "metadata": {
    "id": "1DVtaq8nMruJ"
   },
   "source": [
    "## 7.1 What is a knowledge graph\n",
    "\n",
    "\n",
    "A knowledge graph (KG) is a **directed heterogeneous multigraph** whose node and relation types have domain-specific semantics. \n",
    "\n",
    "KGs allow us to encode the knowledge into a form that is human interpretable and amenable to automated analysis and inference. "
   ]
  },
  {
   "cell_type": "markdown",
   "metadata": {
    "id": "umWmMFI-OB_x"
   },
   "source": [
    "## 7.2 What is the task of Knowledge Graph Embedding?\n",
    "\n",
    "Knowledge graph embedding is the task of completing the knowledge graphs by probabilistically inferring the missing arcs from the existing graph structure. KGE differs from ordinary relation inference as the information in a knowledge graph is multi-relational and more complex to model and computationally expensive."
   ]
  },
  {
   "cell_type": "markdown",
   "metadata": {
    "id": "3dKPuLptPgFI"
   },
   "source": [
    "## 7.3 Score Function\n",
    "There are different flavours of KGE that have been developed over the course of the past few years. What most of them have in common is a score function. The score function measures how distant two nodes relative to its relation type. \n",
    "\n",
    "<img src=\"http://drive.google.com/uc?export=view&id=16HXJlfaMkYSz8j-3_z6Hs2YFe_RH5KHs\" width=800 heigth=800>\n"
   ]
  },
  {
   "cell_type": "markdown",
   "metadata": {
    "id": "Ku_XWhXRTFjx"
   },
   "source": []
  },
  {
   "cell_type": "markdown",
   "metadata": {
    "id": "l4L6WkEoat4a"
   },
   "source": [
    "### 7.3.1 TransE - one example in detail\n",
    "**TransE** is a representative translational distance model that represents entities and relations as vectors in the same semantic space of dimension $\\mathbb{R}^{\\mathrm{d}}$, where $d$ is the dimension of the target space with reduced dimension. A fact in the source space is represented as a triplet $(h, r, t)$ where $h$ is short for head, $r$ is for relation, and $t$ is for tail. The relationship is interpreted as a translation vector so that the embedded entities are connected by relation $r$ have a short distance. $[3,4]$ In terms of vector computation it could mean adding a head to a relation should approximate to the relation's tail, or $h+r \\approx t$. For example if $h_1=e m b\\left(\"\\right.$ Ottawa\"), $h_2=e m b(\"$ Berlin\" $), t_1=e m b\\left(\"\\right.$ Canada\"), $t_2=(\"$ Germany\"), and finally $r=\"$ CapilatOf\", then $h_1+r$ and $h_2+r$ should approximate $t_1$ and $t_2$ respectively. TransE performs linear transformation and the scoring function is negative distance between $h+r$ and $t$, or $f=-\\|h+r-t\\|_{\\frac{1}{2}}$\n",
    "\n",
    "<img src=\"http://drive.google.com/uc?export=view&id=1RXYEF-ZOExFtN1NAZVsOXfTGleThYWlJ\" width=800 heigth=800>\n",
    "\n"
   ]
  },
  {
   "cell_type": "markdown",
   "metadata": {
    "id": "lovKXzW-Sjvi"
   },
   "source": [
    "# 8 Current research and literature"
   ]
  },
  {
   "cell_type": "markdown",
   "metadata": {
    "id": "7cauNCdjSnon"
   },
   "source": [
    "*Which graph architecture to chose*\n",
    "- [Graph World](https://dl.acm.org/doi/pdf/10.1145/3534678.3539203)\n",
    "\n",
    "*How to structurethe graph for different problems*\n",
    "- [Designing networks for graph lernaing](https://dl.acm.org/doi/pdf/10.1145/3394486.3403302)\n",
    "- [Pathfinder Discovery Networks for Neural Message Passing\n",
    "](https://arxiv.org/pdf/2010.12878.pdf)\n"
   ]
  },
  {
   "cell_type": "markdown",
   "metadata": {
    "id": "yHw_vfl1_8TM"
   },
   "source": [
    "https://colab.research.google.com/github/tensorflow/gnn/blob/master/examples/tutorials/neurips_2022/code_tutorial_1_tfgnn_single_machine.ipynb#scrollTo=f1IVGap4Pvqh\n",
    "\n",
    "\n",
    "https://osf.io/c793h/metadata\n",
    "\n",
    "https://paperswithcode.com/paper/a-dataset-for-learning-graph-representations"
   ]
  },
  {
   "cell_type": "code",
   "execution_count": null,
   "metadata": {
    "id": "73arqPZN0C7Z"
   },
   "outputs": [],
   "source": []
  },
  {
   "cell_type": "code",
   "execution_count": null,
   "metadata": {
    "id": "t880B4SB0DX2"
   },
   "outputs": [],
   "source": []
  },
  {
   "cell_type": "code",
   "execution_count": null,
   "metadata": {
    "id": "nbbGY23w0DtR"
   },
   "outputs": [],
   "source": []
  },
  {
   "cell_type": "code",
   "execution_count": null,
   "metadata": {
    "id": "n_o-Wdox0EHE"
   },
   "outputs": [],
   "source": []
  }
 ],
 "metadata": {
  "colab": {
   "authorship_tag": "ABX9TyPGQiokfzWXv9U6MidU7BGs",
   "provenance": [],
   "toc_visible": true
  },
  "kernelspec": {
   "display_name": "Python 3 (ipykernel)",
   "language": "python",
   "name": "python3"
  },
  "language_info": {
   "codemirror_mode": {
    "name": "ipython",
    "version": 3
   },
   "file_extension": ".py",
   "mimetype": "text/x-python",
   "name": "python",
   "nbconvert_exporter": "python",
   "pygments_lexer": "ipython3",
   "version": "3.8.12"
  }
 },
 "nbformat": 4,
 "nbformat_minor": 1
}
