{
 "cells": [
  {
   "cell_type": "markdown",
   "id": "94fd6a49",
   "metadata": {
    "slideshow": {
     "slide_type": "slide"
    }
   },
   "source": [
    "# Gymnasium RL training environment"
   ]
  },
  {
   "cell_type": "markdown",
   "id": "4bc05180",
   "metadata": {
    "slideshow": {
     "slide_type": "slide"
    }
   },
   "source": [
    "- Successor of Open AI Gym\n",
    "- Has multiple environments available for training reinforcement learning agents\n",
    "- Two famous problems Mountaincar (continuous assignment) and Cartpole (final assignment)\n"
   ]
  },
  {
   "cell_type": "markdown",
   "id": "2d1d6f2e",
   "metadata": {
    "slideshow": {
     "slide_type": "slide"
    }
   },
   "source": [
    "[**Mountaincar**](https://gymnasium.farama.org/main/environments/classic_control/mountain_car/)\n",
    "\n",
    "Move mountaincar up a hill by accelerating and braking\n",
    "<img src=\"http://drive.google.com/uc?export=view&id=1XJj3Bju-mqZO8S9JT9QEfMAnZqAjj5X2\" width=45%>"
   ]
  },
  {
   "cell_type": "markdown",
   "id": "72fc79a4",
   "metadata": {
    "slideshow": {
     "slide_type": "slide"
    }
   },
   "source": [
    "[**Cartpole**](https://gymnasium.farama.org/main/environments/classic_control/cart_pole/)\n",
    "\n",
    "Balance a pole on a cart \n",
    "\n",
    "Maximise duration (max 10s) where pole stays upright\n",
    "\n",
    "RL agents moves the cart to balance pole\n",
    "\n",
    "<img src=\"https://drive.google.com/uc?export=download&id=1wiFksyB3-mcirfdZEvrT2DPD7SBEjye2\" >"
   ]
  },
  {
   "cell_type": "markdown",
   "id": "abe3b429",
   "metadata": {
    "slideshow": {
     "slide_type": "slide"
    }
   },
   "source": [
    "### How to tell Gymnasium to start the simulation for the RL task\n",
    "* Find the RL task in gymnasium's [webpage](https://gymnasium.farama.org/) in the section environment\n",
    "* Copy the name of the task e.g. \"MountainCar-v0\"\n",
    "gymnasium.make(\"MountainCar-v0\")\n",
    "\n",
    "\n"
   ]
  },
  {
   "cell_type": "markdown",
   "id": "cd34d894",
   "metadata": {
    "slideshow": {
     "slide_type": "slide"
    }
   },
   "source": [
    "#### import gymnasium "
   ]
  },
  {
   "cell_type": "code",
   "execution_count": null,
   "id": "c7b83e5d",
   "metadata": {
    "slideshow": {
     "slide_type": "slide"
    }
   },
   "outputs": [],
   "source": [
    "!pip install gymnasium # if necessary"
   ]
  },
  {
   "cell_type": "code",
   "execution_count": null,
   "id": "2e40cabc",
   "metadata": {
    "slideshow": {
     "slide_type": "slide"
    }
   },
   "outputs": [],
   "source": [
    "import gymnasium as gym"
   ]
  },
  {
   "cell_type": "markdown",
   "id": "06ba2b49",
   "metadata": {
    "slideshow": {
     "slide_type": "slide"
    }
   },
   "source": [
    "#### Use the make() function to set up the simulation\n",
    "* The *make()* function takes one argument of type *str*. which is the name of the RL task\n",
    "* The RL Task and its simulation is usually called environment in RL\n"
   ]
  },
  {
   "cell_type": "code",
   "execution_count": null,
   "id": "f3d4913c",
   "metadata": {
    "slideshow": {
     "slide_type": "slide"
    }
   },
   "outputs": [],
   "source": [
    "env = gym.make(\"MountainCar-v0\")\n"
   ]
  },
  {
   "cell_type": "markdown",
   "id": "b02c2be0",
   "metadata": {
    "slideshow": {
     "slide_type": "slide"
    }
   },
   "source": [
    "#### Use the reset() function to reset the environment to its initial state\n",
    "* This starts the simulation"
   ]
  },
  {
   "cell_type": "code",
   "execution_count": null,
   "id": "7a84ad64",
   "metadata": {
    "slideshow": {
     "slide_type": "slide"
    }
   },
   "outputs": [],
   "source": [
    "state, info = env.reset(seed=1, options={}) # starts environment returns current state and info about the environment \n",
    "state"
   ]
  },
  {
   "cell_type": "markdown",
   "id": "6599a3a6",
   "metadata": {
    "slideshow": {
     "slide_type": "slide"
    }
   },
   "source": [
    "#### An action can be passed into the environment and a new state obtained"
   ]
  },
  {
   "cell_type": "markdown",
   "id": "c9c176ce",
   "metadata": {
    "slideshow": {
     "slide_type": "slide"
    }
   },
   "source": [
    "state, reward, terminated, truncated , info = env.step(action)"
   ]
  },
  {
   "cell_type": "markdown",
   "id": "295727cb",
   "metadata": {
    "slideshow": {
     "slide_type": "slide"
    }
   },
   "source": [
    "It returns\n",
    "* The new state/observation, \n",
    "* The reward \n",
    "* Whether a sequence is terminated or truncated (both forms of finishes where truncated is when a time time limit is reached)\n",
    "* Any additional info about the environment"
   ]
  },
  {
   "cell_type": "markdown",
   "id": "85d381bc",
   "metadata": {
    "slideshow": {
     "slide_type": "slide"
    }
   },
   "source": [
    "#### Schematic gameplay\n",
    "\n",
    "import gym\n",
    "\n",
    "env = gym.make(\"LunarLander-v2\", render_mode=\"human\")\n",
    "\n",
    "observation, info = env.reset(seed=123, options={})\n",
    "\n",
    "done = False\n",
    "\n",
    "while not done:\n",
    "\n",
    "    action = env.action_space.sample()  # agent policy that uses the observation and info\n",
    "\n",
    "    observation, reward, terminated, truncated, info = env.step(action)\n",
    "\n",
    "    done = terminated or truncated\n",
    "\n",
    "env.close()"
   ]
  },
  {
   "cell_type": "markdown",
   "id": "1d752358",
   "metadata": {
    "slideshow": {
     "slide_type": "slide"
    }
   },
   "source": [
    "#### After set up, you can visually inspect the environment any time by calling the render() function\n",
    "* The *render()* function only works if *reset()* was called before. Otherwise you will get a black screen. \n",
    "* Render does not work in Google Colab"
   ]
  },
  {
   "cell_type": "code",
   "execution_count": null,
   "id": "95c4c51c",
   "metadata": {
    "slideshow": {
     "slide_type": "slide"
    }
   },
   "outputs": [],
   "source": [
    "env.render()"
   ]
  },
  {
   "cell_type": "markdown",
   "id": "003a4423",
   "metadata": {
    "slideshow": {
     "slide_type": "slide"
    }
   },
   "source": [
    "#### To close a session, use the *close()* Function"
   ]
  },
  {
   "cell_type": "code",
   "execution_count": null,
   "id": "37e03472",
   "metadata": {
    "slideshow": {
     "slide_type": "slide"
    }
   },
   "outputs": [],
   "source": [
    "env.close()"
   ]
  }
 ],
 "metadata": {
  "celltoolbar": "Slideshow",
  "kernelspec": {
   "display_name": "Python 3 (ipykernel)",
   "language": "python",
   "name": "python3"
  },
  "language_info": {
   "codemirror_mode": {
    "name": "ipython",
    "version": 3
   },
   "file_extension": ".py",
   "mimetype": "text/x-python",
   "name": "python",
   "nbconvert_exporter": "python",
   "pygments_lexer": "ipython3",
   "version": "3.10.13"
  }
 },
 "nbformat": 4,
 "nbformat_minor": 5
}
