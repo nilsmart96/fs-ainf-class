{
 "cells": [
  {
   "cell_type": "markdown",
   "metadata": {
    "id": "RJEIW9AK8Yqj"
   },
   "source": [
    "# Overall layout of the assignment\n",
    "Overview: In this assignment you are first going to implement a convolutional graph neural network and then an attention graph neural network by \"hand\"\n",
    "\n",
    "Thereafter you are going to implement both using PyTorch Geometric as well as training them on a simple task"
   ]
  },
  {
   "cell_type": "markdown",
   "metadata": {
    "id": "7n4XoftJ9HFa"
   },
   "source": [
    "# Graph Convoluational Neural Networks"
   ]
  },
  {
   "cell_type": "code",
   "execution_count": null,
   "metadata": {
    "colab": {
     "base_uri": "https://localhost:8080/"
    },
    "id": "OqbpnGlrBPz8",
    "outputId": "7be459bc-3e5c-41b9-f93a-bef18ee81058"
   },
   "outputs": [
    {
     "name": "stdout",
     "output_type": "stream",
     "text": [
      "Looking in indexes: https://pypi.org/simple, https://us-python.pkg.dev/colab-wheels/public/simple/\n",
      "Requirement already satisfied: pytorch_lightning in /usr/local/lib/python3.9/dist-packages (2.0.1.post0)\n",
      "Requirement already satisfied: packaging>=17.1 in /usr/local/lib/python3.9/dist-packages (from pytorch_lightning) (23.1)\n",
      "Requirement already satisfied: numpy>=1.17.2 in /usr/local/lib/python3.9/dist-packages (from pytorch_lightning) (1.22.4)\n",
      "Requirement already satisfied: fsspec[http]>2021.06.0 in /usr/local/lib/python3.9/dist-packages (from pytorch_lightning) (2023.4.0)\n",
      "Requirement already satisfied: tqdm>=4.57.0 in /usr/local/lib/python3.9/dist-packages (from pytorch_lightning) (4.65.0)\n",
      "Requirement already satisfied: torchmetrics>=0.7.0 in /usr/local/lib/python3.9/dist-packages (from pytorch_lightning) (0.11.4)\n",
      "Requirement already satisfied: lightning-utilities>=0.7.0 in /usr/local/lib/python3.9/dist-packages (from pytorch_lightning) (0.8.0)\n",
      "Requirement already satisfied: typing-extensions>=4.0.0 in /usr/local/lib/python3.9/dist-packages (from pytorch_lightning) (4.5.0)\n",
      "Requirement already satisfied: torch>=1.11.0 in /usr/local/lib/python3.9/dist-packages (from pytorch_lightning) (2.0.0+cu118)\n",
      "Requirement already satisfied: PyYAML>=5.4 in /usr/local/lib/python3.9/dist-packages (from pytorch_lightning) (6.0)\n",
      "Requirement already satisfied: aiohttp!=4.0.0a0,!=4.0.0a1 in /usr/local/lib/python3.9/dist-packages (from fsspec[http]>2021.06.0->pytorch_lightning) (3.8.4)\n",
      "Requirement already satisfied: requests in /usr/local/lib/python3.9/dist-packages (from fsspec[http]>2021.06.0->pytorch_lightning) (2.27.1)\n",
      "Requirement already satisfied: triton==2.0.0 in /usr/local/lib/python3.9/dist-packages (from torch>=1.11.0->pytorch_lightning) (2.0.0)\n",
      "Requirement already satisfied: sympy in /usr/local/lib/python3.9/dist-packages (from torch>=1.11.0->pytorch_lightning) (1.11.1)\n",
      "Requirement already satisfied: networkx in /usr/local/lib/python3.9/dist-packages (from torch>=1.11.0->pytorch_lightning) (3.1)\n",
      "Requirement already satisfied: filelock in /usr/local/lib/python3.9/dist-packages (from torch>=1.11.0->pytorch_lightning) (3.11.0)\n",
      "Requirement already satisfied: jinja2 in /usr/local/lib/python3.9/dist-packages (from torch>=1.11.0->pytorch_lightning) (3.1.2)\n",
      "Requirement already satisfied: lit in /usr/local/lib/python3.9/dist-packages (from triton==2.0.0->torch>=1.11.0->pytorch_lightning) (16.0.1)\n",
      "Requirement already satisfied: cmake in /usr/local/lib/python3.9/dist-packages (from triton==2.0.0->torch>=1.11.0->pytorch_lightning) (3.25.2)\n",
      "Requirement already satisfied: charset-normalizer<4.0,>=2.0 in /usr/local/lib/python3.9/dist-packages (from aiohttp!=4.0.0a0,!=4.0.0a1->fsspec[http]>2021.06.0->pytorch_lightning) (2.0.12)\n",
      "Requirement already satisfied: frozenlist>=1.1.1 in /usr/local/lib/python3.9/dist-packages (from aiohttp!=4.0.0a0,!=4.0.0a1->fsspec[http]>2021.06.0->pytorch_lightning) (1.3.3)\n",
      "Requirement already satisfied: multidict<7.0,>=4.5 in /usr/local/lib/python3.9/dist-packages (from aiohttp!=4.0.0a0,!=4.0.0a1->fsspec[http]>2021.06.0->pytorch_lightning) (6.0.4)\n",
      "Requirement already satisfied: async-timeout<5.0,>=4.0.0a3 in /usr/local/lib/python3.9/dist-packages (from aiohttp!=4.0.0a0,!=4.0.0a1->fsspec[http]>2021.06.0->pytorch_lightning) (4.0.2)\n",
      "Requirement already satisfied: aiosignal>=1.1.2 in /usr/local/lib/python3.9/dist-packages (from aiohttp!=4.0.0a0,!=4.0.0a1->fsspec[http]>2021.06.0->pytorch_lightning) (1.3.1)\n",
      "Requirement already satisfied: attrs>=17.3.0 in /usr/local/lib/python3.9/dist-packages (from aiohttp!=4.0.0a0,!=4.0.0a1->fsspec[http]>2021.06.0->pytorch_lightning) (23.1.0)\n",
      "Requirement already satisfied: yarl<2.0,>=1.0 in /usr/local/lib/python3.9/dist-packages (from aiohttp!=4.0.0a0,!=4.0.0a1->fsspec[http]>2021.06.0->pytorch_lightning) (1.8.2)\n",
      "Requirement already satisfied: MarkupSafe>=2.0 in /usr/local/lib/python3.9/dist-packages (from jinja2->torch>=1.11.0->pytorch_lightning) (2.1.2)\n",
      "Requirement already satisfied: idna<4,>=2.5 in /usr/local/lib/python3.9/dist-packages (from requests->fsspec[http]>2021.06.0->pytorch_lightning) (3.4)\n",
      "Requirement already satisfied: urllib3<1.27,>=1.21.1 in /usr/local/lib/python3.9/dist-packages (from requests->fsspec[http]>2021.06.0->pytorch_lightning) (1.26.15)\n",
      "Requirement already satisfied: certifi>=2017.4.17 in /usr/local/lib/python3.9/dist-packages (from requests->fsspec[http]>2021.06.0->pytorch_lightning) (2022.12.7)\n",
      "Requirement already satisfied: mpmath>=0.19 in /usr/local/lib/python3.9/dist-packages (from sympy->torch>=1.11.0->pytorch_lightning) (1.3.0)\n"
     ]
    }
   ],
   "source": [
    "# Installing relevant modules\n",
    "#!pip install pytorch_lightning\n",
    "\n"
   ]
  },
  {
   "cell_type": "code",
   "execution_count": null,
   "metadata": {
    "colab": {
     "base_uri": "https://localhost:8080/"
    },
    "id": "vzETpNCowGvh",
    "outputId": "6056f94a-1f8b-4b76-b560-a0f90957747c"
   },
   "outputs": [
    {
     "name": "stdout",
     "output_type": "stream",
     "text": [
      "Looking in indexes: https://pypi.org/simple, https://us-python.pkg.dev/colab-wheels/public/simple/\n",
      "\u001b[31mERROR: Could not find a version that satisfies the requirement networx (from versions: none)\u001b[0m\u001b[31m\n",
      "\u001b[0m\u001b[31mERROR: No matching distribution found for networx\u001b[0m\u001b[31m\n",
      "\u001b[0m"
     ]
    }
   ],
   "source": [
    "#!pip install networx"
   ]
  },
  {
   "cell_type": "code",
   "execution_count": null,
   "metadata": {
    "id": "kT-iQ8Ot8UeO"
   },
   "outputs": [],
   "source": [
    "# Import relevan libraries\n",
    "import os\n",
    "import math\n",
    "import numpy as np\n",
    "\n",
    "# Flor plotting\n",
    "import matplotlib.pyplot as plt\n",
    "import seaborn as sns\n",
    "import tqdm\n",
    "\n",
    "# pytorch\n",
    "import torch\n",
    "import torch.nn as nn\n",
    "import torch.nn.functional as F\n",
    "import torch.utils.data as data\n",
    "import torch.optim as optim\n",
    "\n",
    "#torchvision\n",
    "import torchvision\n",
    "from torchvision.datasets import CIFAR10\n",
    "from torchvision import transforms\n",
    "\n",
    "import pytorch_lightning as pl\n",
    "from pytorch_lightning.callbacks import LearningRateMonitor, ModelCheckpoint\n",
    "\n"
   ]
  },
  {
   "cell_type": "markdown",
   "metadata": {
    "id": "PpaW7zdxCL2n"
   },
   "source": [
    "# Graph Convolutions"
   ]
  },
  {
   "cell_type": "code",
   "execution_count": null,
   "metadata": {
    "id": "pK4L-EbAAzPw"
   },
   "outputs": [],
   "source": [
    "# Pytorch module for Graph Convolutions\n",
    "#TASK_Create a class CGNLayer inhereting class nn.Module (imported from Torch)\n",
    "#__________#\n",
    "class GCNLayer(nn.Module):\n",
    "    def __init__(self, c_in, c_out):                  # c_in : dimension of input feature, c_out : dimension of output feature\n",
    "        super().__init__()\n",
    "        #TASK: Add a linear projection for input features\n",
    "        self.projection = nn.Linear(c_in, c_out) \n",
    "\n",
    "def forward (self, node_feats, adj_matrix):\n",
    "    '''\n",
    "    Inputs:\n",
    "    node_feats = Tensor with node featuers of the shape[batch_size, num_nodes, c_in]\n",
    "    adj_matrix  = Batch adjecency matrix of the graph - if we are considering self node we will provide 1s on leading Diagonal\n",
    "    shape:[batch_size, num_nodes, num_nodes]\n",
    "    '''\n",
    "\n",
    "    # num_neighbours = number of incoming edges\n",
    "    num_neighbours = adj_matrix.sum(dim =-1, keepdims =True)    # Find nubmer of neighbours needed for normalization\n",
    "    # TASK: linear projection of the original node features using \"self.projection\"\n",
    "    node_feats_transformed = self.projection(node_feats)\n",
    "    # TASK: Batchwise matrix multiplication with dimensionality (adj_matrix, node_feats)  - since only nodes with featues have a 1 this results in summing over the linearly projected node featues \n",
    "    node_feats_aggregated = torch.bmm(adj_matrix, node_feats_transformed)\n",
    "    # TASK: Normalization (taking into account the number of adjacent nodes)\n",
    "    node_feats = node_feats_aggregated / num_neighbours.clamp(min=1)\n",
    "\n",
    "    return node_feats"
   ]
  },
  {
   "cell_type": "code",
   "execution_count": null,
   "metadata": {
    "colab": {
     "base_uri": "https://localhost:8080/",
     "height": 337
    },
    "id": "N3ZjNKG-kWGy",
    "outputId": "1e9307da-c17d-4f04-e491-40e312db7a5c"
   },
   "outputs": [
    {
     "data": {
      "image/png": "[encoded data removed]",
      "text/plain": [
       "<Figure size 800x300 with 1 Axes>"
      ]
     },
     "metadata": {},
     "output_type": "display_data"
    }
   ],
   "source": [
    "# Let's apply our Convolutional Graph Layer to an example graph\n",
    "# Creating and plotting a sample graph\n",
    "\n",
    "import networkx as nx\n",
    "\n",
    "# creating a graph\n",
    "nx_g = nx.from_edgelist([(2,1), (2,3), (4,2), (3,4)])   # creates as touples indicating the connections between two nodes \n",
    "\n",
    "import matplotlib.pyplot as plt\n",
    "#nx.draw(g, with_labels=true)\n",
    "#Plt.show()\n",
    "\n",
    "fig = plt.figure(figsize = (8,3))\n",
    "nx.draw(nx_g, with_labels=True)"
   ]
  },
  {
   "cell_type": "code",
   "execution_count": null,
   "metadata": {
    "colab": {
     "base_uri": "https://localhost:8080/"
    },
    "id": "aOpC8StBv3EY",
    "outputId": "a50462ef-f345-4904-e694-6e00ead9c1be"
   },
   "outputs": [
    {
     "name": "stdout",
     "output_type": "stream",
     "text": [
      "node featues:\n",
      " tensor([[[0., 1.],\n",
      "         [2., 3.],\n",
      "         [4., 5.],\n",
      "         [6., 7.]]])\n",
      "\n",
      "Adjacency matrix:\n",
      " tensor([[[1., 1., 0., 0.],\n",
      "         [1., 1., 1., 1.],\n",
      "         [0., 1., 1., 1.],\n",
      "         [0., 1., 1., 1.]]])\n"
     ]
    }
   ],
   "source": [
    "# Defining nodes featues with torch.arrange\n",
    "\n",
    "node_feats = torch.arange(8, dtype = torch.float32).view(1,4,2)   # creating some featurs\n",
    "\n",
    "adj_matrix = torch.Tensor([[[1, 1, 0, 0],     # hand based translation of the graph we saw above (could be done using networkx as well)\n",
    "                            [1, 1, 1, 1],\n",
    "                            [0, 1, 1, 1],\n",
    "                            [0, 1, 1, 1]]])  # leading diagonal always 1, implying that the self node is also a feature \n",
    "\n",
    "print(\"node featues:\\n\", node_feats)\n",
    "print(\"\\nAdjacency matrix:\\n\", adj_matrix)\n",
    "                                                      "
   ]
  },
  {
   "cell_type": "code",
   "execution_count": null,
   "metadata": {
    "colab": {
     "base_uri": "https://localhost:8080/"
    },
    "id": "b6KDUqbjy71L",
    "outputId": "145b223c-b564-494c-a3a3-6fbf1fa0cd68"
   },
   "outputs": [
    {
     "name": "stdout",
     "output_type": "stream",
     "text": [
      "Adjacency matrix tensor([[[1., 1., 0., 0.],\n",
      "         [1., 1., 1., 1.],\n",
      "         [0., 1., 1., 1.],\n",
      "         [0., 1., 1., 1.]]])\n",
      "Input feature tensor([[[0., 1.],\n",
      "         [2., 3.],\n",
      "         [4., 5.],\n",
      "         [6., 7.]]])\n",
      "Output feaures tensor([[[1., 2.],\n",
      "         [3., 4.],\n",
      "         [4., 5.],\n",
      "         [4., 5.]]])\n"
     ]
    }
   ],
   "source": [
    "# Now let's apply a GCN layer to the graph: for simplicity we inialize the linear weight matrix as identity matrix so that input featues are equal to the message\n",
    "\n",
    "layer = GCNLayer(c_in=2, c_out=2)   # model\n",
    "\n",
    "layer.projection.weight.data = torch.Tensor([[1, 0], [0, 1]])\n",
    "layer.projection.bias.data = torch.Tensor([0, 0])\n",
    "\n",
    "with torch.no_grad():                       # .no_grad(), since we are doing a simple forward pass\n",
    "  out_feats = layer(node_feats, adj_matrix) # passingthe features\n",
    "\n",
    "print(\"Adjacency matrix\", adj_matrix)\n",
    "print(\"Input feature\", node_feats)\n",
    "print(\"Output feaures\", out_feats)"
   ]
  },
  {
   "cell_type": "markdown",
   "metadata": {
    "id": "TCDVd9D72djD"
   },
   "source": [
    "# Graph Attention Neural Network - GAT"
   ]
  },
  {
   "cell_type": "code",
   "execution_count": null,
   "metadata": {
    "id": "Ugr0QfHV5Rx6"
   },
   "outputs": [],
   "source": [
    "class GATLayer(nn.Module):  # inheriting nn.module\n",
    "  def __init__(self, c_in, c_out, num_heads=1, concat_heads=True, alpha=0.2):\n",
    "    super().__init__()\n",
    "\n",
    "    '''Inputs:\n",
    "          c_in = dimensionality of input features\n",
    "          c_out = dimensionality of output features\n",
    "\n",
    "          num_heads = number of heads in attention mechanism  - if bigger > 1 multihead attention\n",
    "          concat = if True output of all heads will be concatenated instead of averaging\n",
    "          alpha = negative slope for leaky ReLu\n",
    "    '''\n",
    "\n",
    "    \n",
    "    self.num_heads = num_heads\n",
    "    self.concat_heads = concat_heads\n",
    "\n",
    "    if self.concat_heads:               # if we want to concatenate heads instead of taking the average \n",
    "      assert c_out % num_heads == 0;    \"number of output featues must be the multiple of the count of heads\"\n",
    "      c_out = c_out // num_heads\n",
    "\n",
    "\n",
    "    # sub module and parameters needed in the layer\n",
    "    # TASK: create first linear projection ouput whiche depends on number of heads we want attention for\n",
    "    self.projection = nn.Linear(c_in, self.c_out_per_head * num_heads)\n",
    "    # TASK:  Initalize weight one weith matrix per head with dimensionality 2*c_out \n",
    "    self.a = nn.Parameter(torch.zeros(size=(2 * self.c_out_per_head, num_heads)))\n",
    "    # TASK: Intialize leaky relu activation with alpha passed as parameter\n",
    "    self.leakyrelu = nn.LeakyReLU(alpha)\n",
    "\n",
    "    #Initialization\n",
    "    nn.init.xavier_uniform_(self.projection.weight.data, gain = 1.414)   # xavier uniform initialization\n",
    "    nn.init.xavier_uniform_(self.a.data, gain = 1.414)\n",
    "\n",
    "  def forward(self, node_feats, adj_matrix, print_attn_probs = False):\n",
    "\n",
    "    batch_size, num_nodes = node_feats.size(0), node_feats.size(1)     # calculating batch size and number of node featues \n",
    "\n",
    "    #apply linear layer\n",
    "    # TASK: Projecting the node features as for GNNs\n",
    "    node_feats = self.projection(node_feats)\n",
    "    node_feats = node_feats.view(batch_size, num_nodes, self.num_heads, -1)   # Convert into batch size, number of nodes and number of heads\n",
    "\n",
    "    # we need to calculate the attention logits for every edge in the adjacency matrix\n",
    "    # doing this on all possible nodes will be very expensive\n",
    "    #TASK: return indices where the adjacency matrix is not zero\n",
    "    edges = adj_matrix.nonzero(as_tuple=False)\n",
    "\n",
    "    node_feats_flat = node_feats.view(batch_size*num_nodes, self.num_heads, -1)    # Flattening out node features\n",
    "\n",
    "    edge_indices_row = edges[:, 0] #TASK: Pick the edge indices of the row\n",
    "    edge_indices_col = edges[:, 1] #TASK:  Pick the edge indices of the column\n",
    "    \n",
    "    # Concatenating the features of two nodes\n",
    "    a_input =torch.cat([\n",
    "        torch.index_select(input = node_feats_flat, index = edge_indices_row, dim =0),\n",
    "        torch.index_select(input = node_feats_flat, index = edge_indices_col, dim =0)\n",
    "    ], dim=-1)   #Index select returns a tensor with node_feats_flat being indexed as the desired position along dim =0 \n",
    "\n",
    "    # Calculate attention MLP output (independen for each head)\n",
    "  \n",
    "    attn_logits = torch.einsum('bhc, hc ->bh', a_input, self.a)  # passing our input a_input and weights self.a\n",
    "    \n",
    "    attn_logits = self.leakyrelu(attn_logits) #TASK: apply leaky relu to attention logits\n",
    "\n",
    "    # Map list of attention values back into matrix\n",
    "    attn_matrix = attn_logits.new_zeros(adj_matrix.shape + (self.num_heads,)).fill_(-9e15)   # creating matrix with zeros\n",
    "    attn_matrix[adj_matrix[...,None].repeat(1,1,1,self.num_heads)==1] = attn_logits.reshape(-1) # Filling with the attention values for relevant indices\n",
    "\n",
    "    # Weighted average of attention\n",
    "    attn_probs = F.softmax(attn_matrix, dim=1) # TASK: pass attn_matrix through softmax\n",
    "  \n",
    "    if print_attn_probs:\n",
    "      print(\"Attention probs\\n\", attn_probs.permute(0, 3, 1, 2))\n",
    "    node_feats = torch.einsum('bijh, bjhc -> bihc', attn_probs, node_feats)\n",
    "\n",
    "    # If heads should be concatenated, we cna do this by reshaping. Otherwise, take the mean\n",
    "    if self.concat_heads:\n",
    "      node_feats = node_feats.reshape(batch_size,num_nodes, -1)\n",
    "    else:\n",
    "      node_feats = node_feats.mean(dim=2)\n",
    "\n",
    "    return node_feats"
   ]
  },
  {
   "cell_type": "code",
   "execution_count": null,
   "metadata": {
    "colab": {
     "base_uri": "https://localhost:8080/"
    },
    "id": "ODrDOxMeQRWC",
    "outputId": "dd88d081-bad9-4981-8466-622f9ca98959"
   },
   "outputs": [
    {
     "name": "stdout",
     "output_type": "stream",
     "text": [
      "Adjacency matrix tensor([[[1., 1., 0., 0.],\n",
      "         [1., 1., 1., 1.],\n",
      "         [0., 1., 1., 1.],\n",
      "         [0., 1., 1., 1.]]])\n",
      "Input feature tensor([[[0., 1.],\n",
      "         [2., 3.],\n",
      "         [4., 5.],\n",
      "         [6., 7.]]])\n",
      "Output feaures tensor([[[1.2913, 1.9800],\n",
      "         [4.2344, 3.7725],\n",
      "         [4.6798, 4.8362],\n",
      "         [4.5043, 4.7351]]])\n"
     ]
    }
   ],
   "source": [
    "# instantiating the GATNN and doing a forward pass\n",
    "layer = GATLayer(2,2, num_heads =2, concat_heads=True) \n",
    "\n",
    "\n",
    "layer.projection.weight.data = torch.Tensor([[1, 0], [0, 1]])\n",
    "layer.projection.bias.data = torch.Tensor([0, 0])\n",
    "\n",
    "\n",
    "layer.a.data = torch.Tensor([[-0.2, 0.3],[0.1,-0.1]])\n",
    "\n",
    "with torch.no_grad():                       # .no_grad(), since we are doing a simple forward pass\n",
    "  out_feats = layer(node_feats, adj_matrix, print_attn_probs = False) # passing the features\n",
    "\n",
    "print(\"Adjacency matrix\", adj_matrix)\n",
    "print(\"Input feature\", node_feats)\n",
    "print(\"Output feaures\", out_feats)"
   ]
  },
  {
   "cell_type": "markdown",
   "metadata": {
    "id": "Uu_vDiSrK1G-"
   },
   "source": [
    "# Using Pytorch Geometric"
   ]
  },
  {
   "cell_type": "code",
   "execution_count": null,
   "metadata": {
    "colab": {
     "base_uri": "https://localhost:8080/"
    },
    "id": "jZhIpLTlLaxL",
    "outputId": "668e8021-5d59-400c-8e05-068eaa219694"
   },
   "outputs": [
    {
     "name": "stdout",
     "output_type": "stream",
     "text": [
      "Looking in indexes: https://pypi.org/simple, https://us-python.pkg.dev/colab-wheels/public/simple/\n",
      "Collecting torch_geometric\n",
      "  Downloading torch_geometric-2.3.0.tar.gz (616 kB)\n",
      "\u001b[2K     \u001b[90m━━━━━━━━━━━━━━━━━━━━━━━━━━━━━━━━━━━━━━━\u001b[0m \u001b[32m616.2/616.2 kB\u001b[0m \u001b[31m9.8 MB/s\u001b[0m eta \u001b[36m0:00:00\u001b[0m\n",
      "\u001b[?25h  Installing build dependencies ... \u001b[?25l\u001b[?25hdone\n",
      "  Getting requirements to build wheel ... \u001b[?25l\u001b[?25hdone\n",
      "  Preparing metadata (pyproject.toml) ... \u001b[?25l\u001b[?25hdone\n",
      "Requirement already satisfied: psutil>=5.8.0 in /usr/local/lib/python3.9/dist-packages (from torch_geometric) (5.9.5)\n",
      "Requirement already satisfied: jinja2 in /usr/local/lib/python3.9/dist-packages (from torch_geometric) (3.1.2)\n",
      "Requirement already satisfied: requests in /usr/local/lib/python3.9/dist-packages (from torch_geometric) (2.27.1)\n",
      "Requirement already satisfied: tqdm in /usr/local/lib/python3.9/dist-packages (from torch_geometric) (4.65.0)\n",
      "Requirement already satisfied: numpy in /usr/local/lib/python3.9/dist-packages (from torch_geometric) (1.22.4)\n",
      "Requirement already satisfied: pyparsing in /usr/local/lib/python3.9/dist-packages (from torch_geometric) (3.0.9)\n",
      "Requirement already satisfied: scikit-learn in /usr/local/lib/python3.9/dist-packages (from torch_geometric) (1.2.2)\n",
      "Requirement already satisfied: scipy in /usr/local/lib/python3.9/dist-packages (from torch_geometric) (1.10.1)\n",
      "Requirement already satisfied: MarkupSafe>=2.0 in /usr/local/lib/python3.9/dist-packages (from jinja2->torch_geometric) (2.1.2)\n",
      "Requirement already satisfied: idna<4,>=2.5 in /usr/local/lib/python3.9/dist-packages (from requests->torch_geometric) (3.4)\n",
      "Requirement already satisfied: urllib3<1.27,>=1.21.1 in /usr/local/lib/python3.9/dist-packages (from requests->torch_geometric) (1.26.15)\n",
      "Requirement already satisfied: certifi>=2017.4.17 in /usr/local/lib/python3.9/dist-packages (from requests->torch_geometric) (2022.12.7)\n",
      "Requirement already satisfied: charset-normalizer~=2.0.0 in /usr/local/lib/python3.9/dist-packages (from requests->torch_geometric) (2.0.12)\n",
      "Requirement already satisfied: joblib>=1.1.1 in /usr/local/lib/python3.9/dist-packages (from scikit-learn->torch_geometric) (1.2.0)\n",
      "Requirement already satisfied: threadpoolctl>=2.0.0 in /usr/local/lib/python3.9/dist-packages (from scikit-learn->torch_geometric) (3.1.0)\n",
      "Building wheels for collected packages: torch_geometric\n",
      "  Building wheel for torch_geometric (pyproject.toml) ... \u001b[?25l\u001b[?25hdone\n",
      "  Created wheel for torch_geometric: filename=torch_geometric-2.3.0-py3-none-any.whl size=909897 sha256=4a2b64a4f7e7bd002223ee86f5e18645d66747acd071de59cfbf3cdf245b5c00\n",
      "  Stored in directory: /root/.cache/pip/wheels/cd/7d/6b/17150450b80b4a3656a84330e22709ccd8dc0f8f4773ba4133\n",
      "Successfully built torch_geometric\n",
      "Installing collected packages: torch_geometric\n",
      "Successfully installed torch_geometric-2.3.0\n"
     ]
    }
   ],
   "source": [
    "#!pip install torch_geometric"
   ]
  },
  {
   "cell_type": "code",
   "execution_count": null,
   "metadata": {
    "id": "PZ4IChcCbkGe"
   },
   "outputs": [],
   "source": [
    "import torch_geometric\n",
    "import torch_geometric.nn as g_nn\n",
    "import torch_geometric.data as g_data\n"
   ]
  },
  {
   "cell_type": "markdown",
   "metadata": {
    "id": "TG7BoMjnLg7x"
   },
   "source": [
    "## Example of node level task: Semi supervised node classification\n",
    "\n",
    "A popular example that we will use here is the Cora dataset, a citation network among papers. The Cora dataset consists of 2708 scientific publications with links between each other representing the citation of one paper by another. The task is to classify each publication into one of seven classes. Each publication is represented by a bag-of-words vector. This means that we have a vector of 1433 elements for each publication, where 1 for a feature indicates that the i-th word of a pre-defined dicationary is present in this article."
   ]
  },
  {
   "cell_type": "code",
   "execution_count": null,
   "metadata": {
    "colab": {
     "base_uri": "https://localhost:8080/"
    },
    "id": "if-2A8tuLXha",
    "outputId": "d04580eb-1955-4c7c-f0f8-e148eeefad9b"
   },
   "outputs": [
    {
     "name": "stderr",
     "output_type": "stream",
     "text": [
      "Downloading https://github.com/kimiyoung/planetoid/raw/master/data/ind.cora.x\n",
      "Downloading https://github.com/kimiyoung/planetoid/raw/master/data/ind.cora.tx\n",
      "Downloading https://github.com/kimiyoung/planetoid/raw/master/data/ind.cora.allx\n",
      "Downloading https://github.com/kimiyoung/planetoid/raw/master/data/ind.cora.y\n",
      "Downloading https://github.com/kimiyoung/planetoid/raw/master/data/ind.cora.ty\n",
      "Downloading https://github.com/kimiyoung/planetoid/raw/master/data/ind.cora.ally\n",
      "Downloading https://github.com/kimiyoung/planetoid/raw/master/data/ind.cora.graph\n",
      "Downloading https://github.com/kimiyoung/planetoid/raw/master/data/ind.cora.test.index\n",
      "Processing...\n",
      "Done!\n"
     ]
    }
   ],
   "source": [
    "# Load the dataset and normalized features\n",
    "from torch_geometric.transforms import NormalizeFeatures \n",
    "from torch_geometric.datasets import Planetoid # needed to get the dataset\n",
    "#TASK: Load troch_geometic dataset \"Cora\" ind save in \"Pytorch_Practice_Models\", use  NormalizeFeatures() as transform\n",
    "dataset = Planetoid(root='./Pytorch_Practice_Models', name='Cora', transform=NormalizeFeatures())"
   ]
  },
  {
   "cell_type": "code",
   "execution_count": null,
   "metadata": {
    "colab": {
     "base_uri": "https://localhost:8080/"
    },
    "id": "xgPWDFM4ND3I",
    "outputId": "42f0e494-d444-43db-a2b2-95e8b9ec3c9c"
   },
   "outputs": [
    {
     "data": {
      "text/plain": [
       "Data(x=[2708, 1433], edge_index=[2, 10556], y=[2708], train_mask=[2708], val_mask=[2708], test_mask=[2708])"
      ]
     },
     "execution_count": 40,
     "metadata": {},
     "output_type": "execute_result"
    }
   ],
   "source": [
    "data = dataset[0]\n",
    "data\n",
    "\n",
    "# 2708 nodes (publications)\n",
    "# Every node has 1433 features\n",
    "# edge indexes show what nodes are connected"
   ]
  },
  {
   "cell_type": "code",
   "execution_count": null,
   "metadata": {
    "colab": {
     "base_uri": "https://localhost:8080/"
    },
    "id": "dvK1juCcNNYs",
    "outputId": "a5620972-ca58-4e9c-81c3-a4232da7d3ab"
   },
   "outputs": [
    {
     "name": "stdout",
     "output_type": "stream",
     "text": [
      "GCN(\n",
      "  (conv1): GCNConv(1433, 16)\n",
      "  (conv2): GCNConv(16, 7)\n",
      ")\n"
     ]
    }
   ],
   "source": [
    "# GCN using pytorch-geometric library\n",
    "from torch_geometric.nn import GCNConv    # Import GCNConv\n",
    "\n",
    "# TASK: instantiate class GCN as subclass of nn.Module\n",
    "class GCN(nn.Module):\n",
    "  def __init__(self, hidden_channels):\n",
    "    super().__init__()\n",
    "    torch.manual_seed(1234)\n",
    "    # TASK: set up first convolutional GCN layer  with (dataset.num_features, hidden_channels) as dimensionality\n",
    "    self.conv1 = GCNConv(dataset.num_features, hidden_channels)\n",
    "    # TASK: second convoluational GCN layer (maps to the output ), (hidden_channels, dataset.num_classes) as dimensionality\n",
    "    self.conv2 = GCNConv(hidden_channels, dataset.num_classes)\n",
    "\n",
    "  def forward(self, x, edge_index):\n",
    "     #TASK: conv 1 layer\n",
    "    x = self.conv1(x, edge_index)\n",
    "    #TASK: apply relu activation\n",
    "    x = F.relu(x)\n",
    "    #TASK: dropout with p=0.5 \n",
    "    x = F.dropout(x, p=0.5, training=self.training)\n",
    "    #TASL:  second conv layer\n",
    "    x = self.conv2(x, edge_index)\n",
    "    return x\n",
    "\n",
    "model = GCN(hidden_channels  =16)     # Take 16 hidden channels/ hidden features\n",
    "print(model)\n",
    "\n"
   ]
  },
  {
   "cell_type": "code",
   "execution_count": null,
   "metadata": {
    "colab": {
     "base_uri": "https://localhost:8080/"
    },
    "id": "toPoYjDpOged",
    "outputId": "6cd4bdff-d071-4e79-9b69-58635750e630"
   },
   "outputs": [
    {
     "name": "stdout",
     "output_type": "stream",
     "text": [
      "Epoch: 001, Loss: 1.9458\n",
      "Epoch: 002, Loss: 1.9401\n",
      "Epoch: 003, Loss: 1.9330\n",
      "Epoch: 004, Loss: 1.9251\n",
      "Epoch: 005, Loss: 1.9166\n",
      "Epoch: 006, Loss: 1.9053\n",
      "Epoch: 007, Loss: 1.8923\n",
      "Epoch: 008, Loss: 1.8807\n",
      "Epoch: 009, Loss: 1.8683\n",
      "Epoch: 010, Loss: 1.8520\n",
      "Epoch: 011, Loss: 1.8423\n",
      "Epoch: 012, Loss: 1.8265\n",
      "Epoch: 013, Loss: 1.8180\n",
      "Epoch: 014, Loss: 1.8017\n",
      "Epoch: 015, Loss: 1.7859\n",
      "Epoch: 016, Loss: 1.7723\n",
      "Epoch: 017, Loss: 1.7508\n",
      "Epoch: 018, Loss: 1.7455\n",
      "Epoch: 019, Loss: 1.7208\n",
      "Epoch: 020, Loss: 1.7019\n",
      "Epoch: 021, Loss: 1.6856\n",
      "Epoch: 022, Loss: 1.6666\n",
      "Epoch: 023, Loss: 1.6437\n",
      "Epoch: 024, Loss: 1.6198\n",
      "Epoch: 025, Loss: 1.5929\n",
      "Epoch: 026, Loss: 1.5827\n",
      "Epoch: 027, Loss: 1.5722\n",
      "Epoch: 028, Loss: 1.5474\n",
      "Epoch: 029, Loss: 1.5115\n",
      "Epoch: 030, Loss: 1.5251\n",
      "Epoch: 031, Loss: 1.5039\n",
      "Epoch: 032, Loss: 1.4766\n",
      "Epoch: 033, Loss: 1.4585\n",
      "Epoch: 034, Loss: 1.4162\n",
      "Epoch: 035, Loss: 1.3889\n",
      "Epoch: 036, Loss: 1.3767\n",
      "Epoch: 037, Loss: 1.4026\n",
      "Epoch: 038, Loss: 1.3401\n",
      "Epoch: 039, Loss: 1.3186\n",
      "Epoch: 040, Loss: 1.3123\n",
      "Epoch: 041, Loss: 1.2640\n",
      "Epoch: 042, Loss: 1.2438\n",
      "Epoch: 043, Loss: 1.2338\n",
      "Epoch: 044, Loss: 1.2115\n",
      "Epoch: 045, Loss: 1.1949\n",
      "Epoch: 046, Loss: 1.1558\n",
      "Epoch: 047, Loss: 1.1438\n",
      "Epoch: 048, Loss: 1.1314\n",
      "Epoch: 049, Loss: 1.1380\n",
      "Epoch: 050, Loss: 1.1049\n",
      "Epoch: 051, Loss: 1.0771\n",
      "Epoch: 052, Loss: 1.0742\n",
      "Epoch: 053, Loss: 1.0103\n",
      "Epoch: 054, Loss: 1.0055\n",
      "Epoch: 055, Loss: 0.9562\n",
      "Epoch: 056, Loss: 0.9922\n",
      "Epoch: 057, Loss: 0.9710\n",
      "Epoch: 058, Loss: 0.9497\n",
      "Epoch: 059, Loss: 0.9740\n",
      "Epoch: 060, Loss: 0.9177\n",
      "Epoch: 061, Loss: 0.9352\n",
      "Epoch: 062, Loss: 0.8659\n",
      "Epoch: 063, Loss: 0.9183\n",
      "Epoch: 064, Loss: 0.8653\n",
      "Epoch: 065, Loss: 0.8601\n",
      "Epoch: 066, Loss: 0.8700\n",
      "Epoch: 067, Loss: 0.8317\n",
      "Epoch: 068, Loss: 0.7996\n",
      "Epoch: 069, Loss: 0.7970\n",
      "Epoch: 070, Loss: 0.7834\n",
      "Epoch: 071, Loss: 0.7989\n",
      "Epoch: 072, Loss: 0.7624\n",
      "Epoch: 073, Loss: 0.7776\n",
      "Epoch: 074, Loss: 0.7672\n",
      "Epoch: 075, Loss: 0.7437\n",
      "Epoch: 076, Loss: 0.7511\n",
      "Epoch: 077, Loss: 0.6983\n",
      "Epoch: 078, Loss: 0.6819\n",
      "Epoch: 079, Loss: 0.6937\n",
      "Epoch: 080, Loss: 0.6734\n",
      "Epoch: 081, Loss: 0.6730\n",
      "Epoch: 082, Loss: 0.6641\n",
      "Epoch: 083, Loss: 0.6585\n",
      "Epoch: 084, Loss: 0.6399\n",
      "Epoch: 085, Loss: 0.6349\n",
      "Epoch: 086, Loss: 0.6584\n",
      "Epoch: 087, Loss: 0.6548\n",
      "Epoch: 088, Loss: 0.7112\n",
      "Epoch: 089, Loss: 0.6240\n",
      "Epoch: 090, Loss: 0.5762\n",
      "Epoch: 091, Loss: 0.6079\n",
      "Epoch: 092, Loss: 0.5854\n",
      "Epoch: 093, Loss: 0.5777\n",
      "Epoch: 094, Loss: 0.6104\n",
      "Epoch: 095, Loss: 0.5418\n",
      "Epoch: 096, Loss: 0.5918\n",
      "Epoch: 097, Loss: 0.5709\n",
      "Epoch: 098, Loss: 0.5679\n",
      "Epoch: 099, Loss: 0.5465\n",
      "Epoch: 100, Loss: 0.5332\n",
      "Epoch: 101, Loss: 0.5027\n",
      "Epoch: 102, Loss: 0.5475\n",
      "Epoch: 103, Loss: 0.5331\n",
      "Epoch: 104, Loss: 0.5482\n",
      "Epoch: 105, Loss: 0.5313\n",
      "Epoch: 106, Loss: 0.5288\n",
      "Epoch: 107, Loss: 0.5068\n",
      "Epoch: 108, Loss: 0.5402\n",
      "Epoch: 109, Loss: 0.5080\n",
      "Epoch: 110, Loss: 0.5064\n",
      "Epoch: 111, Loss: 0.5030\n",
      "Epoch: 112, Loss: 0.5159\n",
      "Epoch: 113, Loss: 0.5139\n",
      "Epoch: 114, Loss: 0.5159\n",
      "Epoch: 115, Loss: 0.4774\n",
      "Epoch: 116, Loss: 0.4754\n",
      "Epoch: 117, Loss: 0.5067\n",
      "Epoch: 118, Loss: 0.4961\n",
      "Epoch: 119, Loss: 0.4642\n",
      "Epoch: 120, Loss: 0.4746\n",
      "Epoch: 121, Loss: 0.4962\n",
      "Epoch: 122, Loss: 0.4913\n",
      "Epoch: 123, Loss: 0.4753\n",
      "Epoch: 124, Loss: 0.4769\n",
      "Epoch: 125, Loss: 0.4575\n",
      "Epoch: 126, Loss: 0.4627\n",
      "Epoch: 127, Loss: 0.4455\n",
      "Epoch: 128, Loss: 0.4789\n",
      "Epoch: 129, Loss: 0.4173\n",
      "Epoch: 130, Loss: 0.4271\n",
      "Epoch: 131, Loss: 0.4207\n",
      "Epoch: 132, Loss: 0.4149\n",
      "Epoch: 133, Loss: 0.4355\n",
      "Epoch: 134, Loss: 0.4638\n",
      "Epoch: 135, Loss: 0.4051\n",
      "Epoch: 136, Loss: 0.4011\n",
      "Epoch: 137, Loss: 0.4022\n",
      "Epoch: 138, Loss: 0.4157\n",
      "Epoch: 139, Loss: 0.4006\n",
      "Epoch: 140, Loss: 0.3727\n",
      "Epoch: 141, Loss: 0.4441\n",
      "Epoch: 142, Loss: 0.3849\n",
      "Epoch: 143, Loss: 0.3932\n",
      "Epoch: 144, Loss: 0.4342\n",
      "Epoch: 145, Loss: 0.3740\n",
      "Epoch: 146, Loss: 0.4069\n",
      "Epoch: 147, Loss: 0.3943\n",
      "Epoch: 148, Loss: 0.3829\n",
      "Epoch: 149, Loss: 0.3905\n",
      "Epoch: 150, Loss: 0.3653\n",
      "Epoch: 151, Loss: 0.3835\n",
      "Epoch: 152, Loss: 0.3901\n",
      "Epoch: 153, Loss: 0.4004\n",
      "Epoch: 154, Loss: 0.3799\n",
      "Epoch: 155, Loss: 0.3793\n",
      "Epoch: 156, Loss: 0.3756\n",
      "Epoch: 157, Loss: 0.3568\n",
      "Epoch: 158, Loss: 0.3626\n",
      "Epoch: 159, Loss: 0.3829\n",
      "Epoch: 160, Loss: 0.3647\n",
      "Epoch: 161, Loss: 0.3596\n",
      "Epoch: 162, Loss: 0.3445\n",
      "Epoch: 163, Loss: 0.3678\n",
      "Epoch: 164, Loss: 0.3465\n",
      "Epoch: 165, Loss: 0.3467\n",
      "Epoch: 166, Loss: 0.3494\n",
      "Epoch: 167, Loss: 0.3347\n",
      "Epoch: 168, Loss: 0.3269\n",
      "Epoch: 169, Loss: 0.3523\n",
      "Epoch: 170, Loss: 0.3409\n",
      "Epoch: 171, Loss: 0.3985\n",
      "Epoch: 172, Loss: 0.3512\n",
      "Epoch: 173, Loss: 0.3742\n",
      "Epoch: 174, Loss: 0.3327\n",
      "Epoch: 175, Loss: 0.3133\n",
      "Epoch: 176, Loss: 0.3487\n",
      "Epoch: 177, Loss: 0.3377\n",
      "Epoch: 178, Loss: 0.3682\n",
      "Epoch: 179, Loss: 0.3423\n",
      "Epoch: 180, Loss: 0.3213\n",
      "Epoch: 181, Loss: 0.3742\n",
      "Epoch: 182, Loss: 0.3455\n",
      "Epoch: 183, Loss: 0.3389\n",
      "Epoch: 184, Loss: 0.3175\n",
      "Epoch: 185, Loss: 0.3457\n",
      "Epoch: 186, Loss: 0.3287\n",
      "Epoch: 187, Loss: 0.3725\n",
      "Epoch: 188, Loss: 0.3266\n",
      "Epoch: 189, Loss: 0.3204\n",
      "Epoch: 190, Loss: 0.2974\n",
      "Epoch: 191, Loss: 0.3273\n",
      "Epoch: 192, Loss: 0.3190\n",
      "Epoch: 193, Loss: 0.3215\n",
      "Epoch: 194, Loss: 0.3466\n",
      "Epoch: 195, Loss: 0.3447\n",
      "Epoch: 196, Loss: 0.3249\n",
      "Epoch: 197, Loss: 0.3548\n",
      "Epoch: 198, Loss: 0.3147\n",
      "Epoch: 199, Loss: 0.3513\n"
     ]
    }
   ],
   "source": [
    "model = GCN(hidden_channels = 16)   #instantiating model\n",
    "optimizer = torch.optim.Adam(model.parameters(), lr=0.01, weight_decay =5e-4) # Adam optimizer with appropriate learning rate and cross entropy loss\n",
    "criterion = torch.nn.CrossEntropyLoss()  #\n",
    "\n",
    "def train():\n",
    "  #TASK: put model in training mode\n",
    "  model.train()\n",
    "   #TASK: clear gradients \n",
    "  optimizer.zero_grad()\n",
    "  out = model(data.x, data.edge_index)  #perform a single forward pass \n",
    "  loss = criterion(out[data.train_mask], data.y[data.train_mask]) #compute the loss solely based on the training nodes \n",
    "  #TASK: derive gradients (backward pass)\n",
    "  loss.backward()\n",
    "  #TASK: Update parameters based on gradient\n",
    "  optimizer.step()\n",
    "  return loss\n",
    "\n",
    "\n",
    "def test():\n",
    "  model.eval()\n",
    "  out = model(data.x, data.edge_index) \n",
    "  pred = out.argmax(dim=1) # use the class with the highest probability\n",
    "  test_correct = pred[data.test_mask] == data.y[data.test_mask] # check against ground-truth labels\n",
    "  test_acc = int(test_correct.sum()) /int(data.test_mask.sum())  # Derive ratio of correct predictions\n",
    "  return test_acc\n",
    "\n",
    "for epoch in range(1,200):\n",
    "  loss = train()\n",
    "  print(f'Epoch: {epoch:03d}, Loss: {loss:.4f}')\n"
   ]
  },
  {
   "cell_type": "code",
   "execution_count": null,
   "metadata": {
    "colab": {
     "base_uri": "https://localhost:8080/"
    },
    "id": "Ws8dwHbwYdvt",
    "outputId": "67edfc26-8166-4eba-8db8-8af14c639422"
   },
   "outputs": [
    {
     "name": "stdout",
     "output_type": "stream",
     "text": [
      "Test Accuracy: 0.8090\n"
     ]
    }
   ],
   "source": [
    "# Observing performance on test set\n",
    "test_acc = test()\n",
    "print(f'Test Accuracy: {test_acc:.4f}')"
   ]
  },
  {
   "cell_type": "code",
   "execution_count": null,
   "metadata": {
    "colab": {
     "base_uri": "https://localhost:8080/"
    },
    "id": "z0dJ66JBwznc",
    "outputId": "d13cabcf-eb19-4533-faf0-6a7602a82330"
   },
   "outputs": [
    {
     "name": "stdout",
     "output_type": "stream",
     "text": [
      "GAT(\n",
      "  (conv1): GATConv(1433, 8, heads=1)\n",
      "  (conv2): GATConv(8, 7, heads=1)\n",
      ")\n"
     ]
    }
   ],
   "source": [
    "# Geaph Attention Neural Network\n",
    "\n",
    "from torch_geometric.nn import GATConv\n",
    "\n",
    "class GAT(torch.nn.Module):\n",
    "  def __init__(self, hidden_channels, heads):\n",
    "    super().__init__()\n",
    "    torch.manual_seed(1234)\n",
    "    # TASK: first convolutional GAT layer      (takes the input)\n",
    "    self.conv1 = GATConv(dataset.num_features, hidden_channels, heads=heads)\n",
    "    # TASK: second convoluational GAT layer (maps to the output )\n",
    "    self.conv2 = GATConv(hidden_channels * heads, data.num_classes, heads=heads, concat=False)\n",
    "\n",
    "  def forward(self, x, edge_index):\n",
    "    #TASK: dropout p=0.6 use dropout\n",
    "    x = F.dropout(x, p=0.6, training=self.training)\n",
    "    #TASK: GAT 1 layer\n",
    "    x = self.conv1(x, edge_index)\n",
    "    #TAKS: apply elu activation\n",
    "    x = F.elu(x)\n",
    "    #TASK: use dropout, p=0.6\n",
    "    x = F.dropout(x, p=0.6, training=self.training)\n",
    "    #TASK apply second GAT layer\n",
    "    x = self.conv2(x, edge_index)\n",
    "    return x\n",
    "\n",
    "model = GAT(hidden_channels  =8, heads=1)     # Take 8 hidden channels/ hidden features and 8 heads\n",
    "print(model)\n",
    "\n"
   ]
  },
  {
   "cell_type": "code",
   "execution_count": null,
   "metadata": {
    "colab": {
     "base_uri": "https://localhost:8080/"
    },
    "id": "fQp3rpSuyBna",
    "outputId": "c29aee9c-5547-4c63-f3bf-a6910fa1396f"
   },
   "outputs": [
    {
     "name": "stdout",
     "output_type": "stream",
     "text": [
      "Epoch: 001, Loss: 1.9470\n",
      "Epoch: 002, Loss: 1.9454\n",
      "Epoch: 003, Loss: 1.9410\n",
      "Epoch: 004, Loss: 1.9390\n",
      "Epoch: 005, Loss: 1.9363\n",
      "Epoch: 006, Loss: 1.9354\n",
      "Epoch: 007, Loss: 1.9314\n",
      "Epoch: 008, Loss: 1.9277\n",
      "Epoch: 009, Loss: 1.9217\n",
      "Epoch: 010, Loss: 1.9203\n",
      "Epoch: 011, Loss: 1.9191\n",
      "Epoch: 012, Loss: 1.9118\n",
      "Epoch: 013, Loss: 1.9127\n",
      "Epoch: 014, Loss: 1.9096\n",
      "Epoch: 015, Loss: 1.9054\n",
      "Epoch: 016, Loss: 1.8987\n",
      "Epoch: 017, Loss: 1.8968\n",
      "Epoch: 018, Loss: 1.8967\n",
      "Epoch: 019, Loss: 1.8895\n",
      "Epoch: 020, Loss: 1.8953\n",
      "Epoch: 021, Loss: 1.8852\n",
      "Epoch: 022, Loss: 1.8754\n",
      "Epoch: 023, Loss: 1.8742\n",
      "Epoch: 024, Loss: 1.8685\n",
      "Epoch: 025, Loss: 1.8665\n",
      "Epoch: 026, Loss: 1.8629\n",
      "Epoch: 027, Loss: 1.8610\n",
      "Epoch: 028, Loss: 1.8550\n",
      "Epoch: 029, Loss: 1.8520\n",
      "Epoch: 030, Loss: 1.8455\n",
      "Epoch: 031, Loss: 1.8405\n",
      "Epoch: 032, Loss: 1.8382\n",
      "Epoch: 033, Loss: 1.8294\n",
      "Epoch: 034, Loss: 1.8314\n",
      "Epoch: 035, Loss: 1.8133\n",
      "Epoch: 036, Loss: 1.8187\n",
      "Epoch: 037, Loss: 1.8158\n",
      "Epoch: 038, Loss: 1.8046\n",
      "Epoch: 039, Loss: 1.7988\n",
      "Epoch: 040, Loss: 1.8008\n",
      "Epoch: 041, Loss: 1.7853\n",
      "Epoch: 042, Loss: 1.7808\n",
      "Epoch: 043, Loss: 1.7744\n",
      "Epoch: 044, Loss: 1.7887\n",
      "Epoch: 045, Loss: 1.7683\n",
      "Epoch: 046, Loss: 1.7526\n",
      "Epoch: 047, Loss: 1.7560\n",
      "Epoch: 048, Loss: 1.7365\n",
      "Epoch: 049, Loss: 1.7339\n",
      "Epoch: 050, Loss: 1.7304\n",
      "Epoch: 051, Loss: 1.7139\n",
      "Epoch: 052, Loss: 1.6873\n",
      "Epoch: 053, Loss: 1.7184\n",
      "Epoch: 054, Loss: 1.7218\n",
      "Epoch: 055, Loss: 1.6778\n",
      "Epoch: 056, Loss: 1.6686\n",
      "Epoch: 057, Loss: 1.6605\n",
      "Epoch: 058, Loss: 1.6832\n",
      "Epoch: 059, Loss: 1.6615\n",
      "Epoch: 060, Loss: 1.6518\n",
      "Epoch: 061, Loss: 1.6352\n",
      "Epoch: 062, Loss: 1.6568\n",
      "Epoch: 063, Loss: 1.5994\n",
      "Epoch: 064, Loss: 1.5696\n",
      "Epoch: 065, Loss: 1.5933\n",
      "Epoch: 066, Loss: 1.5835\n",
      "Epoch: 067, Loss: 1.5542\n",
      "Epoch: 068, Loss: 1.5643\n",
      "Epoch: 069, Loss: 1.5751\n",
      "Epoch: 070, Loss: 1.5326\n",
      "Epoch: 071, Loss: 1.5482\n",
      "Epoch: 072, Loss: 1.5145\n",
      "Epoch: 073, Loss: 1.5025\n",
      "Epoch: 074, Loss: 1.5273\n",
      "Epoch: 075, Loss: 1.4795\n",
      "Epoch: 076, Loss: 1.4748\n",
      "Epoch: 077, Loss: 1.5136\n",
      "Epoch: 078, Loss: 1.4425\n",
      "Epoch: 079, Loss: 1.4834\n",
      "Epoch: 080, Loss: 1.3924\n",
      "Epoch: 081, Loss: 1.4433\n",
      "Epoch: 082, Loss: 1.4142\n",
      "Epoch: 083, Loss: 1.4351\n",
      "Epoch: 084, Loss: 1.4383\n",
      "Epoch: 085, Loss: 1.3214\n",
      "Epoch: 086, Loss: 1.3408\n",
      "Epoch: 087, Loss: 1.3325\n",
      "Epoch: 088, Loss: 1.3616\n",
      "Epoch: 089, Loss: 1.3219\n",
      "Epoch: 090, Loss: 1.2777\n",
      "Epoch: 091, Loss: 1.3539\n",
      "Epoch: 092, Loss: 1.2986\n",
      "Epoch: 093, Loss: 1.3455\n",
      "Epoch: 094, Loss: 1.3055\n",
      "Epoch: 095, Loss: 1.2893\n",
      "Epoch: 096, Loss: 1.2574\n",
      "Epoch: 097, Loss: 1.2863\n",
      "Epoch: 098, Loss: 1.3229\n",
      "Epoch: 099, Loss: 1.2288\n",
      "Epoch: 100, Loss: 1.2114\n",
      "Epoch: 101, Loss: 1.2274\n",
      "Epoch: 102, Loss: 1.2398\n",
      "Epoch: 103, Loss: 1.1699\n",
      "Epoch: 104, Loss: 1.2156\n",
      "Epoch: 105, Loss: 1.1875\n",
      "Epoch: 106, Loss: 1.2051\n",
      "Epoch: 107, Loss: 1.1839\n",
      "Epoch: 108, Loss: 1.1866\n",
      "Epoch: 109, Loss: 1.1002\n",
      "Epoch: 110, Loss: 1.1776\n",
      "Epoch: 111, Loss: 1.1329\n",
      "Epoch: 112, Loss: 1.1628\n",
      "Epoch: 113, Loss: 1.1541\n",
      "Epoch: 114, Loss: 1.1249\n",
      "Epoch: 115, Loss: 1.0860\n",
      "Epoch: 116, Loss: 1.1254\n",
      "Epoch: 117, Loss: 1.0689\n",
      "Epoch: 118, Loss: 1.0936\n",
      "Epoch: 119, Loss: 1.0639\n",
      "Epoch: 120, Loss: 1.0778\n",
      "Epoch: 121, Loss: 1.1059\n",
      "Epoch: 122, Loss: 0.9958\n",
      "Epoch: 123, Loss: 1.0423\n",
      "Epoch: 124, Loss: 1.0595\n",
      "Epoch: 125, Loss: 1.0476\n",
      "Epoch: 126, Loss: 1.1025\n",
      "Epoch: 127, Loss: 1.0591\n",
      "Epoch: 128, Loss: 1.0200\n",
      "Epoch: 129, Loss: 0.9353\n",
      "Epoch: 130, Loss: 1.0317\n",
      "Epoch: 131, Loss: 0.9518\n",
      "Epoch: 132, Loss: 0.9500\n",
      "Epoch: 133, Loss: 1.0041\n",
      "Epoch: 134, Loss: 0.9498\n",
      "Epoch: 135, Loss: 0.9394\n",
      "Epoch: 136, Loss: 0.9240\n",
      "Epoch: 137, Loss: 0.9502\n",
      "Epoch: 138, Loss: 0.9596\n",
      "Epoch: 139, Loss: 0.8800\n",
      "Epoch: 140, Loss: 0.9248\n",
      "Epoch: 141, Loss: 1.0539\n",
      "Epoch: 142, Loss: 0.9723\n",
      "Epoch: 143, Loss: 0.9146\n",
      "Epoch: 144, Loss: 0.9477\n",
      "Epoch: 145, Loss: 0.9027\n",
      "Epoch: 146, Loss: 0.9074\n",
      "Epoch: 147, Loss: 0.9057\n",
      "Epoch: 148, Loss: 0.8884\n",
      "Epoch: 149, Loss: 0.8752\n",
      "Epoch: 150, Loss: 0.9253\n",
      "Epoch: 151, Loss: 0.9166\n",
      "Epoch: 152, Loss: 0.8851\n",
      "Epoch: 153, Loss: 0.8299\n",
      "Epoch: 154, Loss: 0.8813\n",
      "Epoch: 155, Loss: 0.8446\n",
      "Epoch: 156, Loss: 0.8612\n",
      "Epoch: 157, Loss: 0.8652\n",
      "Epoch: 158, Loss: 0.8220\n",
      "Epoch: 159, Loss: 0.8290\n",
      "Epoch: 160, Loss: 0.8735\n",
      "Epoch: 161, Loss: 0.8515\n",
      "Epoch: 162, Loss: 0.8678\n",
      "Epoch: 163, Loss: 0.7899\n",
      "Epoch: 164, Loss: 0.8282\n",
      "Epoch: 165, Loss: 0.7723\n",
      "Epoch: 166, Loss: 0.7859\n",
      "Epoch: 167, Loss: 0.8022\n",
      "Epoch: 168, Loss: 0.8377\n",
      "Epoch: 169, Loss: 0.7742\n",
      "Epoch: 170, Loss: 0.7641\n",
      "Epoch: 171, Loss: 0.7701\n",
      "Epoch: 172, Loss: 0.8277\n",
      "Epoch: 173, Loss: 0.8160\n",
      "Epoch: 174, Loss: 0.8301\n",
      "Epoch: 175, Loss: 0.7333\n",
      "Epoch: 176, Loss: 0.7957\n",
      "Epoch: 177, Loss: 0.8012\n",
      "Epoch: 178, Loss: 0.7721\n",
      "Epoch: 179, Loss: 0.7617\n",
      "Epoch: 180, Loss: 0.7122\n",
      "Epoch: 181, Loss: 0.8123\n",
      "Epoch: 182, Loss: 0.7643\n",
      "Epoch: 183, Loss: 0.7838\n",
      "Epoch: 184, Loss: 0.8000\n",
      "Epoch: 185, Loss: 0.7759\n",
      "Epoch: 186, Loss: 0.7822\n",
      "Epoch: 187, Loss: 0.7379\n",
      "Epoch: 188, Loss: 0.7205\n",
      "Epoch: 189, Loss: 0.7142\n",
      "Epoch: 190, Loss: 0.6853\n",
      "Epoch: 191, Loss: 0.6827\n",
      "Epoch: 192, Loss: 0.6696\n",
      "Epoch: 193, Loss: 0.7119\n",
      "Epoch: 194, Loss: 0.7502\n",
      "Epoch: 195, Loss: 0.8289\n",
      "Epoch: 196, Loss: 0.7526\n",
      "Epoch: 197, Loss: 0.6528\n",
      "Epoch: 198, Loss: 0.7993\n",
      "Epoch: 199, Loss: 0.6740\n"
     ]
    }
   ],
   "source": [
    "model = GAT(hidden_channels  =8, heads=8)  #instantiating model\n",
    "optimizer = torch.optim.Adam(model.parameters(), lr=0.005, weight_decay =5e-4) # Adam optimizer with appropriate learning rate and cross entropy loss\n",
    "criterion = torch.nn.CrossEntropyLoss()  #\n",
    "\n",
    "def train():\n",
    "  # TASK: set model in training mode \n",
    "  model.train()\n",
    "  # TASK:  clear gradients \n",
    "  optimizer.zero_grad()\n",
    "  out = model(data.x, data.edge_index)  #perform a single forward pass \n",
    "  loss = criterion(out[data.train_mask], data.y[data.train_mask]) #compute the loss solely based on the training nodes \n",
    "  #TASK: derive gradients (backward pass)\n",
    "  loss.backward()\n",
    "  #TASK Update parameters based on gradient\n",
    "  optimizer.step()\n",
    "  return loss\n",
    "\n",
    "\n",
    "def test():\n",
    "  model.eval()\n",
    "  out = model(data.x, data.edge_index) \n",
    "  pred = out.argmax(dim=1) # use the class with the highest probability\n",
    "  test_correct = pred[data.test_mask] == data.y[data.test_mask] # check against ground-truth labels\n",
    "  test_acc = int(test_correct.sum()) /int(data.test_mask.sum())  # Derive ratio of correct predictions\n",
    "  return test_acc\n",
    "\n",
    " \n",
    "for epoch in range(1,200):\n",
    "  loss = train()\n",
    "  print(f'Epoch: {epoch:03d}, Loss: {loss:.4f}')"
   ]
  },
  {
   "cell_type": "code",
   "execution_count": null,
   "metadata": {
    "colab": {
     "base_uri": "https://localhost:8080/"
    },
    "id": "4wDuugxfy7t8",
    "outputId": "822280e4-efaf-4d01-a36c-36182d8e8df0"
   },
   "outputs": [
    {
     "name": "stdout",
     "output_type": "stream",
     "text": [
      "Test Accuracy: 0.7650\n"
     ]
    }
   ],
   "source": [
    "# Observing performance on test set\n",
    "test_acc = test()\n",
    "print(f'Test Accuracy: {test_acc:.4f}')"
   ]
  },
  {
   "cell_type": "markdown",
   "metadata": {
    "id": "aZIYr14hDwKX"
   },
   "source": [
    "Summary: in this context and the particular set-up graph convolutions are more effective than graph attention. Propose (argue for), implement and evaluate two potential improvements for the graph attention neural network"
   ]
  },
  {
   "cell_type": "markdown",
   "metadata": {
    "id": "Jtji0EdOzDdf"
   },
   "source": [
    "In the scenario where graph convolutions are found more effective than graph attention mechanisms, it could be due to several reasons such as the architecture’s inability to leverage the flexibility provided by attention mechanisms effectively, or perhaps due to the problem domain and data characteristics that favor convolutions for feature aggregation over attention mechanisms. Here are two proposed improvements to enhance the performance of a Graph Attention Network (GAT):\n",
    "\n",
    "### 1. **Multi-Head Attention with Diverse Initialization**\n",
    "**Proposition**: The effectiveness of the attention mechanism can be greatly enhanced by using multi-head attention, where each head learns a different aspect of the data. Diverse initialization of each attention head might encourage exploration of different representational spaces, potentially capturing a wider range of node feature relationships.\n",
    "\n",
    "**Implementation Suggestion**:\n",
    "- Increase the number of heads in the GAT layer while ensuring that each head starts with a unique initial state. This could be achieved by varying the initialization parameters across heads.\n",
    "- Consider using orthogonal or sparse initialization techniques which might encourage each head to develop different and potentially complementary representations of the input features.\n",
    "\n",
    "**Evaluation Approach**:\n",
    "- Test the network's performance with varying numbers of attention heads and types of initializations.\n",
    "- Compare the results against a baseline model to see if there's an improvement in performance metrics like accuracy on a validation set or a specific task-related metric.\n",
    "\n",
    "### 2. **Incorporate Edge Features in Attention Mechanisms**\n",
    "**Proposition**: Standard GATs do not explicitly incorporate edge features, which can provide crucial contextual information about the relationship between nodes. Modifying the GAT to account for edge features could enhance its ability to model inter-node relationships and improve performance.\n",
    "\n",
    "**Implementation Suggestion**:\n",
    "- Modify the attention mechanism to include edge features in the computation of attention coefficients. This can be done by extending the attention mechanism's input to include edge attributes, which influence the computation of attention scores between nodes.\n",
    "- The attention function could be redefined as \\( e_{ij} = a(\\mathbf{W}[h_i \\| h_j \\| e_{ij}]) \\), where \\( e_{ij} \\) are the edge features between nodes \\( i \\) and \\( j \\), and \\( a \\) is a learnable function (e.g., a neural network).\n",
    "\n",
    "**Evaluation Approach**:\n",
    "- Evaluate the model on datasets where edge features are known to be informative (e.g., molecular graphs where edge types represent different bond types).\n",
    "- Compare performance metrics (like classification accuracy or regression error) against a version of the model that does not use edge features.\n",
    "\n",
    "### General Evaluation Setup\n",
    "For both improvements, a rigorous evaluation would involve:\n",
    "- Training the modified GAT models on a standard dataset where baseline performance is established.\n",
    "- Using k-fold cross-validation or a held-out test set to assess performance.\n",
    "- Analyzing the results using metrics such as accuracy, F1 score, or ROC-AUC for classification tasks. For regression or other types of tasks, appropriate metrics like RMSE or MAE should be used.\n",
    "- Optionally, visualize attention scores or learned embeddings to qualitatively assess how the model is interpreting the graph structure.\n",
    "\n",
    "These improvements aim to leverage the flexibility and capacity of GATs more effectively, potentially overcoming scenarios where traditional GCN architectures perform better."
   ]
  }
 ],
 "metadata": {
  "colab": {
   "provenance": []
  },
  "kernelspec": {
   "display_name": "Python 3 (ipykernel)",
   "language": "python",
   "name": "python3"
  },
  "language_info": {
   "codemirror_mode": {
    "name": "ipython",
    "version": 3
   },
   "file_extension": ".py",
   "mimetype": "text/x-python",
   "name": "python",
   "nbconvert_exporter": "python",
   "pygments_lexer": "ipython3",
   "version": "3.8.12"
  }
 },
 "nbformat": 4,
 "nbformat_minor": 1
}
